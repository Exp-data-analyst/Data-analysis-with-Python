{
 "cells": [
  {
   "cell_type": "markdown",
   "metadata": {},
   "source": [
    "# Analysis of ODI matches played between 1971-2017 using Numpy, Pandas & Seaborn\n",
    "\n",
    "This project contains the analysis of all the ODI matches played between Jan,1971-Aug,2017 (downloaded from: https://www.kaggle.com/datasets/jaykay12/odi-cricket-matches-19712017). Project is part of my free learning course \"Data Analysis with Python: Zero to Pandas\"(checkout at https://jovian.ai/learn/data-analysis-with-python-zero-to-pandas)\n"
   ]
  },
  {
   "cell_type": "markdown",
   "metadata": {},
   "source": [
    "## Downloading the Dataset\n",
    "\n",
    "\n",
    "Let's start off by downloading the data set from 'https://www.kaggle.com/datasets/jaykay12/odi-cricket-matches-19712017' "
   ]
  },
  {
   "cell_type": "code",
   "execution_count": 209,
   "metadata": {},
   "outputs": [],
   "source": [
    "!pip install jovian opendatasets --upgrade --quiet"
   ]
  },
  {
   "cell_type": "markdown",
   "metadata": {},
   "source": [
    "Let's begin by downloading the data, and listing the files within the dataset."
   ]
  },
  {
   "cell_type": "code",
   "execution_count": 210,
   "metadata": {},
   "outputs": [],
   "source": [
    "dataset_url = 'https://www.kaggle.com/datasets/jaykay12/odi-cricket-matches-19712017' "
   ]
  },
  {
   "cell_type": "code",
   "execution_count": 212,
   "metadata": {},
   "outputs": [
    {
     "name": "stdout",
     "output_type": "stream",
     "text": [
      "Skipping, found downloaded files in \"./odi-cricket-matches-19712017\" (use force=True to force download)\n"
     ]
    }
   ],
   "source": [
    "import opendatasets as od\n",
    "od.download(dataset_url)"
   ]
  },
  {
   "cell_type": "markdown",
   "metadata": {},
   "source": [
    "The dataset has been downloaded and extracted."
   ]
  },
  {
   "cell_type": "code",
   "execution_count": 213,
   "metadata": {},
   "outputs": [],
   "source": [
    "data_dir = './odi-cricket-matches-19712017'"
   ]
  },
  {
   "cell_type": "code",
   "execution_count": 214,
   "metadata": {},
   "outputs": [
    {
     "data": {
      "text/plain": [
       "['ContinousDataset.csv',\n",
       " 'LabelledDataset.csv',\n",
       " 'CategoricalDataset.csv',\n",
       " 'originalDataset.csv']"
      ]
     },
     "execution_count": 214,
     "metadata": {},
     "output_type": "execute_result"
    }
   ],
   "source": [
    "import os\n",
    "os.listdir(data_dir)"
   ]
  },
  {
   "cell_type": "markdown",
   "metadata": {},
   "source": [
    "## Data Preparation and Cleaning\n",
    "\n",
    " Before we begin our analysis we need to clean the data so as to derive more meaningful results from it."
   ]
  },
  {
   "cell_type": "code",
   "execution_count": 219,
   "metadata": {},
   "outputs": [],
   "source": [
    "import pandas as pd\n",
    "import numpy as np"
   ]
  },
  {
   "cell_type": "code",
   "execution_count": 220,
   "metadata": {},
   "outputs": [],
   "source": [
    "odi_df = pd.read_csv(data_dir+'/ContinousDataset.csv')"
   ]
  },
  {
   "cell_type": "code",
   "execution_count": 221,
   "metadata": {},
   "outputs": [
    {
     "data": {
      "text/html": [
       "<div>\n",
       "<style scoped>\n",
       "    .dataframe tbody tr th:only-of-type {\n",
       "        vertical-align: middle;\n",
       "    }\n",
       "\n",
       "    .dataframe tbody tr th {\n",
       "        vertical-align: top;\n",
       "    }\n",
       "\n",
       "    .dataframe thead th {\n",
       "        text-align: right;\n",
       "    }\n",
       "</style>\n",
       "<table border=\"1\" class=\"dataframe\">\n",
       "  <thead>\n",
       "    <tr style=\"text-align: right;\">\n",
       "      <th></th>\n",
       "      <th>Unnamed: 0</th>\n",
       "      <th>Scorecard</th>\n",
       "      <th>Team 1</th>\n",
       "      <th>Team 2</th>\n",
       "      <th>Margin</th>\n",
       "      <th>Ground</th>\n",
       "      <th>Match Date</th>\n",
       "      <th>Winner</th>\n",
       "      <th>Host_Country</th>\n",
       "      <th>Venue_Team1</th>\n",
       "      <th>Venue_Team2</th>\n",
       "      <th>Innings_Team1</th>\n",
       "      <th>Innings_Team2</th>\n",
       "    </tr>\n",
       "  </thead>\n",
       "  <tbody>\n",
       "    <tr>\n",
       "      <th>0</th>\n",
       "      <td>0</td>\n",
       "      <td>ODI # 1</td>\n",
       "      <td>Australia</td>\n",
       "      <td>England</td>\n",
       "      <td>Winner2ndInning</td>\n",
       "      <td>Melbourne</td>\n",
       "      <td>Jan 5, 1971</td>\n",
       "      <td>Australia</td>\n",
       "      <td>Australia</td>\n",
       "      <td>Home</td>\n",
       "      <td>Away</td>\n",
       "      <td>Second</td>\n",
       "      <td>First</td>\n",
       "    </tr>\n",
       "    <tr>\n",
       "      <th>1</th>\n",
       "      <td>1</td>\n",
       "      <td>ODI # 2</td>\n",
       "      <td>England</td>\n",
       "      <td>Australia</td>\n",
       "      <td>Winner2ndInning</td>\n",
       "      <td>Manchester</td>\n",
       "      <td>Aug 24, 1972</td>\n",
       "      <td>England</td>\n",
       "      <td>England</td>\n",
       "      <td>Home</td>\n",
       "      <td>Away</td>\n",
       "      <td>Second</td>\n",
       "      <td>First</td>\n",
       "    </tr>\n",
       "    <tr>\n",
       "      <th>2</th>\n",
       "      <td>2</td>\n",
       "      <td>ODI # 3</td>\n",
       "      <td>England</td>\n",
       "      <td>Australia</td>\n",
       "      <td>Winner2ndInning</td>\n",
       "      <td>Lord's</td>\n",
       "      <td>Aug 26, 1972</td>\n",
       "      <td>Australia</td>\n",
       "      <td>England</td>\n",
       "      <td>Home</td>\n",
       "      <td>Away</td>\n",
       "      <td>First</td>\n",
       "      <td>Second</td>\n",
       "    </tr>\n",
       "    <tr>\n",
       "      <th>3</th>\n",
       "      <td>3</td>\n",
       "      <td>ODI # 4</td>\n",
       "      <td>England</td>\n",
       "      <td>Australia</td>\n",
       "      <td>Winner2ndInning</td>\n",
       "      <td>Birmingham</td>\n",
       "      <td>Aug 28, 1972</td>\n",
       "      <td>England</td>\n",
       "      <td>England</td>\n",
       "      <td>Home</td>\n",
       "      <td>Away</td>\n",
       "      <td>Second</td>\n",
       "      <td>First</td>\n",
       "    </tr>\n",
       "    <tr>\n",
       "      <th>4</th>\n",
       "      <td>4</td>\n",
       "      <td>ODI # 5</td>\n",
       "      <td>New Zealand</td>\n",
       "      <td>Pakistan</td>\n",
       "      <td>Winner1stInning</td>\n",
       "      <td>Christchurch</td>\n",
       "      <td>Feb 11, 1973</td>\n",
       "      <td>New Zealand</td>\n",
       "      <td>New Zealand</td>\n",
       "      <td>Home</td>\n",
       "      <td>Away</td>\n",
       "      <td>First</td>\n",
       "      <td>Second</td>\n",
       "    </tr>\n",
       "    <tr>\n",
       "      <th>...</th>\n",
       "      <td>...</td>\n",
       "      <td>...</td>\n",
       "      <td>...</td>\n",
       "      <td>...</td>\n",
       "      <td>...</td>\n",
       "      <td>...</td>\n",
       "      <td>...</td>\n",
       "      <td>...</td>\n",
       "      <td>...</td>\n",
       "      <td>...</td>\n",
       "      <td>...</td>\n",
       "      <td>...</td>\n",
       "      <td>...</td>\n",
       "    </tr>\n",
       "    <tr>\n",
       "      <th>7489</th>\n",
       "      <td>3747</td>\n",
       "      <td>ODI # 3931</td>\n",
       "      <td>New Zealand</td>\n",
       "      <td>India</td>\n",
       "      <td>Winner2ndInning</td>\n",
       "      <td>Pune</td>\n",
       "      <td>Oct 25, 2017</td>\n",
       "      <td>India</td>\n",
       "      <td>India</td>\n",
       "      <td>Away</td>\n",
       "      <td>Home</td>\n",
       "      <td>First</td>\n",
       "      <td>Second</td>\n",
       "    </tr>\n",
       "    <tr>\n",
       "      <th>7490</th>\n",
       "      <td>3748</td>\n",
       "      <td>ODI # 3932</td>\n",
       "      <td>New Zealand</td>\n",
       "      <td>India</td>\n",
       "      <td>Winner1stInning</td>\n",
       "      <td>Kanpur</td>\n",
       "      <td>Oct 29, 2017</td>\n",
       "      <td>India</td>\n",
       "      <td>India</td>\n",
       "      <td>Away</td>\n",
       "      <td>Home</td>\n",
       "      <td>Second</td>\n",
       "      <td>First</td>\n",
       "    </tr>\n",
       "    <tr>\n",
       "      <th>7491</th>\n",
       "      <td>3749</td>\n",
       "      <td>ODI # 3933</td>\n",
       "      <td>Namibia</td>\n",
       "      <td>Hong Kong</td>\n",
       "      <td>Winner2ndInning</td>\n",
       "      <td>Mumbai</td>\n",
       "      <td>Aug 12, 2017</td>\n",
       "      <td>Namibia</td>\n",
       "      <td>India</td>\n",
       "      <td>Neutral</td>\n",
       "      <td>Neutral</td>\n",
       "      <td>Second</td>\n",
       "      <td>First</td>\n",
       "    </tr>\n",
       "    <tr>\n",
       "      <th>7492</th>\n",
       "      <td>3750</td>\n",
       "      <td>ODI # 3934</td>\n",
       "      <td>U.S.A.</td>\n",
       "      <td>Bermuda</td>\n",
       "      <td>Winner2ndInning</td>\n",
       "      <td>Mumbai</td>\n",
       "      <td>Aug 12, 2017</td>\n",
       "      <td>U.S.A.</td>\n",
       "      <td>India</td>\n",
       "      <td>Neutral</td>\n",
       "      <td>Neutral</td>\n",
       "      <td>Second</td>\n",
       "      <td>First</td>\n",
       "    </tr>\n",
       "    <tr>\n",
       "      <th>7493</th>\n",
       "      <td>3749</td>\n",
       "      <td>ODI # 3935</td>\n",
       "      <td>Namibia</td>\n",
       "      <td>East Africa</td>\n",
       "      <td>Winner1stInning</td>\n",
       "      <td>Mumbai</td>\n",
       "      <td>Aug 12, 2017</td>\n",
       "      <td>East Africa</td>\n",
       "      <td>India</td>\n",
       "      <td>Neutral</td>\n",
       "      <td>Neutral</td>\n",
       "      <td>Second</td>\n",
       "      <td>First</td>\n",
       "    </tr>\n",
       "  </tbody>\n",
       "</table>\n",
       "<p>7494 rows × 13 columns</p>\n",
       "</div>"
      ],
      "text/plain": [
       "      Unnamed: 0   Scorecard       Team 1       Team 2           Margin  \\\n",
       "0              0     ODI # 1    Australia      England  Winner2ndInning   \n",
       "1              1     ODI # 2      England    Australia  Winner2ndInning   \n",
       "2              2     ODI # 3      England    Australia  Winner2ndInning   \n",
       "3              3     ODI # 4      England    Australia  Winner2ndInning   \n",
       "4              4     ODI # 5  New Zealand     Pakistan  Winner1stInning   \n",
       "...          ...         ...          ...          ...              ...   \n",
       "7489        3747  ODI # 3931  New Zealand        India  Winner2ndInning   \n",
       "7490        3748  ODI # 3932  New Zealand        India  Winner1stInning   \n",
       "7491        3749  ODI # 3933      Namibia    Hong Kong  Winner2ndInning   \n",
       "7492        3750  ODI # 3934       U.S.A.      Bermuda  Winner2ndInning   \n",
       "7493        3749  ODI # 3935      Namibia  East Africa  Winner1stInning   \n",
       "\n",
       "            Ground    Match Date       Winner Host_Country Venue_Team1  \\\n",
       "0        Melbourne   Jan 5, 1971    Australia    Australia        Home   \n",
       "1       Manchester  Aug 24, 1972      England      England        Home   \n",
       "2           Lord's  Aug 26, 1972    Australia      England        Home   \n",
       "3       Birmingham  Aug 28, 1972      England      England        Home   \n",
       "4     Christchurch  Feb 11, 1973  New Zealand  New Zealand        Home   \n",
       "...            ...           ...          ...          ...         ...   \n",
       "7489          Pune  Oct 25, 2017        India        India        Away   \n",
       "7490        Kanpur  Oct 29, 2017        India        India        Away   \n",
       "7491        Mumbai  Aug 12, 2017      Namibia        India     Neutral   \n",
       "7492        Mumbai  Aug 12, 2017       U.S.A.        India     Neutral   \n",
       "7493        Mumbai  Aug 12, 2017  East Africa        India     Neutral   \n",
       "\n",
       "     Venue_Team2 Innings_Team1 Innings_Team2  \n",
       "0           Away        Second         First  \n",
       "1           Away        Second         First  \n",
       "2           Away         First        Second  \n",
       "3           Away        Second         First  \n",
       "4           Away         First        Second  \n",
       "...          ...           ...           ...  \n",
       "7489        Home         First        Second  \n",
       "7490        Home        Second         First  \n",
       "7491     Neutral        Second         First  \n",
       "7492     Neutral        Second         First  \n",
       "7493     Neutral        Second         First  \n",
       "\n",
       "[7494 rows x 13 columns]"
      ]
     },
     "execution_count": 221,
     "metadata": {},
     "output_type": "execute_result"
    }
   ],
   "source": [
    "odi_df"
   ]
  },
  {
   "cell_type": "markdown",
   "metadata": {},
   "source": [
    "We can see there is duplicate row data and an extra column ('Unnamed: 0')"
   ]
  },
  {
   "cell_type": "code",
   "execution_count": 222,
   "metadata": {},
   "outputs": [],
   "source": [
    "# Remove repeating data\n",
    "x=np.arange(3747,7494)\n",
    "odi_df.drop(x,inplace=True)\n",
    "odi_df.drop(columns=['Unnamed: 0'],inplace=True)"
   ]
  },
  {
   "cell_type": "code",
   "execution_count": 224,
   "metadata": {},
   "outputs": [
    {
     "data": {
      "text/html": [
       "<div>\n",
       "<style scoped>\n",
       "    .dataframe tbody tr th:only-of-type {\n",
       "        vertical-align: middle;\n",
       "    }\n",
       "\n",
       "    .dataframe tbody tr th {\n",
       "        vertical-align: top;\n",
       "    }\n",
       "\n",
       "    .dataframe thead th {\n",
       "        text-align: right;\n",
       "    }\n",
       "</style>\n",
       "<table border=\"1\" class=\"dataframe\">\n",
       "  <thead>\n",
       "    <tr style=\"text-align: right;\">\n",
       "      <th></th>\n",
       "      <th>Scorecard</th>\n",
       "      <th>Team 1</th>\n",
       "      <th>Team 2</th>\n",
       "      <th>Margin</th>\n",
       "      <th>Ground</th>\n",
       "      <th>Match Date</th>\n",
       "      <th>Winner</th>\n",
       "      <th>Host_Country</th>\n",
       "      <th>Venue_Team1</th>\n",
       "      <th>Venue_Team2</th>\n",
       "      <th>Innings_Team1</th>\n",
       "      <th>Innings_Team2</th>\n",
       "    </tr>\n",
       "  </thead>\n",
       "  <tbody>\n",
       "    <tr>\n",
       "      <th>0</th>\n",
       "      <td>ODI # 1</td>\n",
       "      <td>Australia</td>\n",
       "      <td>England</td>\n",
       "      <td>Winner2ndInning</td>\n",
       "      <td>Melbourne</td>\n",
       "      <td>Jan 5, 1971</td>\n",
       "      <td>Australia</td>\n",
       "      <td>Australia</td>\n",
       "      <td>Home</td>\n",
       "      <td>Away</td>\n",
       "      <td>Second</td>\n",
       "      <td>First</td>\n",
       "    </tr>\n",
       "    <tr>\n",
       "      <th>1</th>\n",
       "      <td>ODI # 2</td>\n",
       "      <td>England</td>\n",
       "      <td>Australia</td>\n",
       "      <td>Winner2ndInning</td>\n",
       "      <td>Manchester</td>\n",
       "      <td>Aug 24, 1972</td>\n",
       "      <td>England</td>\n",
       "      <td>England</td>\n",
       "      <td>Home</td>\n",
       "      <td>Away</td>\n",
       "      <td>Second</td>\n",
       "      <td>First</td>\n",
       "    </tr>\n",
       "    <tr>\n",
       "      <th>2</th>\n",
       "      <td>ODI # 3</td>\n",
       "      <td>England</td>\n",
       "      <td>Australia</td>\n",
       "      <td>Winner2ndInning</td>\n",
       "      <td>Lord's</td>\n",
       "      <td>Aug 26, 1972</td>\n",
       "      <td>Australia</td>\n",
       "      <td>England</td>\n",
       "      <td>Home</td>\n",
       "      <td>Away</td>\n",
       "      <td>First</td>\n",
       "      <td>Second</td>\n",
       "    </tr>\n",
       "    <tr>\n",
       "      <th>3</th>\n",
       "      <td>ODI # 4</td>\n",
       "      <td>England</td>\n",
       "      <td>Australia</td>\n",
       "      <td>Winner2ndInning</td>\n",
       "      <td>Birmingham</td>\n",
       "      <td>Aug 28, 1972</td>\n",
       "      <td>England</td>\n",
       "      <td>England</td>\n",
       "      <td>Home</td>\n",
       "      <td>Away</td>\n",
       "      <td>Second</td>\n",
       "      <td>First</td>\n",
       "    </tr>\n",
       "    <tr>\n",
       "      <th>4</th>\n",
       "      <td>ODI # 5</td>\n",
       "      <td>New Zealand</td>\n",
       "      <td>Pakistan</td>\n",
       "      <td>Winner1stInning</td>\n",
       "      <td>Christchurch</td>\n",
       "      <td>Feb 11, 1973</td>\n",
       "      <td>New Zealand</td>\n",
       "      <td>New Zealand</td>\n",
       "      <td>Home</td>\n",
       "      <td>Away</td>\n",
       "      <td>First</td>\n",
       "      <td>Second</td>\n",
       "    </tr>\n",
       "    <tr>\n",
       "      <th>...</th>\n",
       "      <td>...</td>\n",
       "      <td>...</td>\n",
       "      <td>...</td>\n",
       "      <td>...</td>\n",
       "      <td>...</td>\n",
       "      <td>...</td>\n",
       "      <td>...</td>\n",
       "      <td>...</td>\n",
       "      <td>...</td>\n",
       "      <td>...</td>\n",
       "      <td>...</td>\n",
       "      <td>...</td>\n",
       "    </tr>\n",
       "    <tr>\n",
       "      <th>3742</th>\n",
       "      <td>ODI # 3931</td>\n",
       "      <td>India</td>\n",
       "      <td>New Zealand</td>\n",
       "      <td>Winner2ndInning</td>\n",
       "      <td>Pune</td>\n",
       "      <td>Oct 25, 2017</td>\n",
       "      <td>India</td>\n",
       "      <td>India</td>\n",
       "      <td>Home</td>\n",
       "      <td>Away</td>\n",
       "      <td>Second</td>\n",
       "      <td>First</td>\n",
       "    </tr>\n",
       "    <tr>\n",
       "      <th>3743</th>\n",
       "      <td>ODI # 3932</td>\n",
       "      <td>India</td>\n",
       "      <td>New Zealand</td>\n",
       "      <td>Winner1stInning</td>\n",
       "      <td>Kanpur</td>\n",
       "      <td>Oct 29, 2017</td>\n",
       "      <td>India</td>\n",
       "      <td>India</td>\n",
       "      <td>Home</td>\n",
       "      <td>Away</td>\n",
       "      <td>First</td>\n",
       "      <td>Second</td>\n",
       "    </tr>\n",
       "    <tr>\n",
       "      <th>3744</th>\n",
       "      <td>ODI # 3933</td>\n",
       "      <td>Hong Kong</td>\n",
       "      <td>Namibia</td>\n",
       "      <td>Winner2ndInning</td>\n",
       "      <td>Mumbai</td>\n",
       "      <td>Aug 12, 2017</td>\n",
       "      <td>Namibia</td>\n",
       "      <td>India</td>\n",
       "      <td>Neutral</td>\n",
       "      <td>Neutral</td>\n",
       "      <td>First</td>\n",
       "      <td>Second</td>\n",
       "    </tr>\n",
       "    <tr>\n",
       "      <th>3745</th>\n",
       "      <td>ODI # 3934</td>\n",
       "      <td>Bermuda</td>\n",
       "      <td>U.S.A.</td>\n",
       "      <td>Winner2ndInning</td>\n",
       "      <td>Mumbai</td>\n",
       "      <td>Aug 12, 2017</td>\n",
       "      <td>U.S.A.</td>\n",
       "      <td>India</td>\n",
       "      <td>Neutral</td>\n",
       "      <td>Neutral</td>\n",
       "      <td>First</td>\n",
       "      <td>Second</td>\n",
       "    </tr>\n",
       "    <tr>\n",
       "      <th>3746</th>\n",
       "      <td>ODI # 3935</td>\n",
       "      <td>East Africa</td>\n",
       "      <td>Namibia</td>\n",
       "      <td>Winner1stInning</td>\n",
       "      <td>Mumbai</td>\n",
       "      <td>Aug 12, 2017</td>\n",
       "      <td>East Africa</td>\n",
       "      <td>India</td>\n",
       "      <td>Neutral</td>\n",
       "      <td>Neutral</td>\n",
       "      <td>First</td>\n",
       "      <td>Second</td>\n",
       "    </tr>\n",
       "  </tbody>\n",
       "</table>\n",
       "<p>3747 rows × 12 columns</p>\n",
       "</div>"
      ],
      "text/plain": [
       "       Scorecard       Team 1       Team 2           Margin        Ground  \\\n",
       "0        ODI # 1    Australia      England  Winner2ndInning     Melbourne   \n",
       "1        ODI # 2      England    Australia  Winner2ndInning    Manchester   \n",
       "2        ODI # 3      England    Australia  Winner2ndInning        Lord's   \n",
       "3        ODI # 4      England    Australia  Winner2ndInning    Birmingham   \n",
       "4        ODI # 5  New Zealand     Pakistan  Winner1stInning  Christchurch   \n",
       "...          ...          ...          ...              ...           ...   \n",
       "3742  ODI # 3931        India  New Zealand  Winner2ndInning          Pune   \n",
       "3743  ODI # 3932        India  New Zealand  Winner1stInning        Kanpur   \n",
       "3744  ODI # 3933    Hong Kong      Namibia  Winner2ndInning        Mumbai   \n",
       "3745  ODI # 3934      Bermuda       U.S.A.  Winner2ndInning        Mumbai   \n",
       "3746  ODI # 3935  East Africa      Namibia  Winner1stInning        Mumbai   \n",
       "\n",
       "        Match Date       Winner Host_Country Venue_Team1 Venue_Team2  \\\n",
       "0      Jan 5, 1971    Australia    Australia        Home        Away   \n",
       "1     Aug 24, 1972      England      England        Home        Away   \n",
       "2     Aug 26, 1972    Australia      England        Home        Away   \n",
       "3     Aug 28, 1972      England      England        Home        Away   \n",
       "4     Feb 11, 1973  New Zealand  New Zealand        Home        Away   \n",
       "...            ...          ...          ...         ...         ...   \n",
       "3742  Oct 25, 2017        India        India        Home        Away   \n",
       "3743  Oct 29, 2017        India        India        Home        Away   \n",
       "3744  Aug 12, 2017      Namibia        India     Neutral     Neutral   \n",
       "3745  Aug 12, 2017       U.S.A.        India     Neutral     Neutral   \n",
       "3746  Aug 12, 2017  East Africa        India     Neutral     Neutral   \n",
       "\n",
       "     Innings_Team1 Innings_Team2  \n",
       "0           Second         First  \n",
       "1           Second         First  \n",
       "2            First        Second  \n",
       "3           Second         First  \n",
       "4            First        Second  \n",
       "...            ...           ...  \n",
       "3742        Second         First  \n",
       "3743         First        Second  \n",
       "3744         First        Second  \n",
       "3745         First        Second  \n",
       "3746         First        Second  \n",
       "\n",
       "[3747 rows x 12 columns]"
      ]
     },
     "execution_count": 224,
     "metadata": {},
     "output_type": "execute_result"
    }
   ],
   "source": [
    "odi_df"
   ]
  },
  {
   "cell_type": "markdown",
   "metadata": {},
   "source": [
    "Rename for better reusability"
   ]
  },
  {
   "cell_type": "code",
   "execution_count": 225,
   "metadata": {},
   "outputs": [],
   "source": [
    "odi_df['Margin'] = odi_df['Margin'].replace(['Winner2ndInning'],'2')\n",
    "odi_df['Margin'] = odi_df['Margin'].replace(['Winner1stInning'],'1')\n",
    "\n",
    "odi_df['Innings_Team1'] = odi_df['Innings_Team1'].replace(['Second'],'2')\n",
    "odi_df['Innings_Team1'] = odi_df['Innings_Team1'].replace(['First'],'1')\n",
    "\n",
    "odi_df['Innings_Team2'] = odi_df['Innings_Team2'].replace(['Second'],'2')\n",
    "odi_df['Innings_Team2'] = odi_df['Innings_Team2'].replace(['First'],'1')"
   ]
  },
  {
   "cell_type": "code",
   "execution_count": 226,
   "metadata": {},
   "outputs": [
    {
     "data": {
      "text/html": [
       "<div>\n",
       "<style scoped>\n",
       "    .dataframe tbody tr th:only-of-type {\n",
       "        vertical-align: middle;\n",
       "    }\n",
       "\n",
       "    .dataframe tbody tr th {\n",
       "        vertical-align: top;\n",
       "    }\n",
       "\n",
       "    .dataframe thead th {\n",
       "        text-align: right;\n",
       "    }\n",
       "</style>\n",
       "<table border=\"1\" class=\"dataframe\">\n",
       "  <thead>\n",
       "    <tr style=\"text-align: right;\">\n",
       "      <th></th>\n",
       "      <th>Scorecard</th>\n",
       "      <th>Team1</th>\n",
       "      <th>Team2</th>\n",
       "      <th>WinnerBatInnings</th>\n",
       "      <th>Ground</th>\n",
       "      <th>Match_date</th>\n",
       "      <th>Winner</th>\n",
       "      <th>Host_Country</th>\n",
       "      <th>Venue_Team1</th>\n",
       "      <th>Venue_Team2</th>\n",
       "      <th>Innings_Team1</th>\n",
       "      <th>Innings_Team2</th>\n",
       "    </tr>\n",
       "  </thead>\n",
       "  <tbody>\n",
       "    <tr>\n",
       "      <th>0</th>\n",
       "      <td>ODI # 1</td>\n",
       "      <td>Australia</td>\n",
       "      <td>England</td>\n",
       "      <td>2</td>\n",
       "      <td>Melbourne</td>\n",
       "      <td>Jan 5, 1971</td>\n",
       "      <td>Australia</td>\n",
       "      <td>Australia</td>\n",
       "      <td>Home</td>\n",
       "      <td>Away</td>\n",
       "      <td>2</td>\n",
       "      <td>1</td>\n",
       "    </tr>\n",
       "    <tr>\n",
       "      <th>1</th>\n",
       "      <td>ODI # 2</td>\n",
       "      <td>England</td>\n",
       "      <td>Australia</td>\n",
       "      <td>2</td>\n",
       "      <td>Manchester</td>\n",
       "      <td>Aug 24, 1972</td>\n",
       "      <td>England</td>\n",
       "      <td>England</td>\n",
       "      <td>Home</td>\n",
       "      <td>Away</td>\n",
       "      <td>2</td>\n",
       "      <td>1</td>\n",
       "    </tr>\n",
       "    <tr>\n",
       "      <th>2</th>\n",
       "      <td>ODI # 3</td>\n",
       "      <td>England</td>\n",
       "      <td>Australia</td>\n",
       "      <td>2</td>\n",
       "      <td>Lord's</td>\n",
       "      <td>Aug 26, 1972</td>\n",
       "      <td>Australia</td>\n",
       "      <td>England</td>\n",
       "      <td>Home</td>\n",
       "      <td>Away</td>\n",
       "      <td>1</td>\n",
       "      <td>2</td>\n",
       "    </tr>\n",
       "    <tr>\n",
       "      <th>3</th>\n",
       "      <td>ODI # 4</td>\n",
       "      <td>England</td>\n",
       "      <td>Australia</td>\n",
       "      <td>2</td>\n",
       "      <td>Birmingham</td>\n",
       "      <td>Aug 28, 1972</td>\n",
       "      <td>England</td>\n",
       "      <td>England</td>\n",
       "      <td>Home</td>\n",
       "      <td>Away</td>\n",
       "      <td>2</td>\n",
       "      <td>1</td>\n",
       "    </tr>\n",
       "    <tr>\n",
       "      <th>4</th>\n",
       "      <td>ODI # 5</td>\n",
       "      <td>New Zealand</td>\n",
       "      <td>Pakistan</td>\n",
       "      <td>1</td>\n",
       "      <td>Christchurch</td>\n",
       "      <td>Feb 11, 1973</td>\n",
       "      <td>New Zealand</td>\n",
       "      <td>New Zealand</td>\n",
       "      <td>Home</td>\n",
       "      <td>Away</td>\n",
       "      <td>1</td>\n",
       "      <td>2</td>\n",
       "    </tr>\n",
       "    <tr>\n",
       "      <th>...</th>\n",
       "      <td>...</td>\n",
       "      <td>...</td>\n",
       "      <td>...</td>\n",
       "      <td>...</td>\n",
       "      <td>...</td>\n",
       "      <td>...</td>\n",
       "      <td>...</td>\n",
       "      <td>...</td>\n",
       "      <td>...</td>\n",
       "      <td>...</td>\n",
       "      <td>...</td>\n",
       "      <td>...</td>\n",
       "    </tr>\n",
       "    <tr>\n",
       "      <th>3742</th>\n",
       "      <td>ODI # 3931</td>\n",
       "      <td>India</td>\n",
       "      <td>New Zealand</td>\n",
       "      <td>2</td>\n",
       "      <td>Pune</td>\n",
       "      <td>Oct 25, 2017</td>\n",
       "      <td>India</td>\n",
       "      <td>India</td>\n",
       "      <td>Home</td>\n",
       "      <td>Away</td>\n",
       "      <td>2</td>\n",
       "      <td>1</td>\n",
       "    </tr>\n",
       "    <tr>\n",
       "      <th>3743</th>\n",
       "      <td>ODI # 3932</td>\n",
       "      <td>India</td>\n",
       "      <td>New Zealand</td>\n",
       "      <td>1</td>\n",
       "      <td>Kanpur</td>\n",
       "      <td>Oct 29, 2017</td>\n",
       "      <td>India</td>\n",
       "      <td>India</td>\n",
       "      <td>Home</td>\n",
       "      <td>Away</td>\n",
       "      <td>1</td>\n",
       "      <td>2</td>\n",
       "    </tr>\n",
       "    <tr>\n",
       "      <th>3744</th>\n",
       "      <td>ODI # 3933</td>\n",
       "      <td>Hong Kong</td>\n",
       "      <td>Namibia</td>\n",
       "      <td>2</td>\n",
       "      <td>Mumbai</td>\n",
       "      <td>Aug 12, 2017</td>\n",
       "      <td>Namibia</td>\n",
       "      <td>India</td>\n",
       "      <td>Neutral</td>\n",
       "      <td>Neutral</td>\n",
       "      <td>1</td>\n",
       "      <td>2</td>\n",
       "    </tr>\n",
       "    <tr>\n",
       "      <th>3745</th>\n",
       "      <td>ODI # 3934</td>\n",
       "      <td>Bermuda</td>\n",
       "      <td>U.S.A.</td>\n",
       "      <td>2</td>\n",
       "      <td>Mumbai</td>\n",
       "      <td>Aug 12, 2017</td>\n",
       "      <td>U.S.A.</td>\n",
       "      <td>India</td>\n",
       "      <td>Neutral</td>\n",
       "      <td>Neutral</td>\n",
       "      <td>1</td>\n",
       "      <td>2</td>\n",
       "    </tr>\n",
       "    <tr>\n",
       "      <th>3746</th>\n",
       "      <td>ODI # 3935</td>\n",
       "      <td>East Africa</td>\n",
       "      <td>Namibia</td>\n",
       "      <td>1</td>\n",
       "      <td>Mumbai</td>\n",
       "      <td>Aug 12, 2017</td>\n",
       "      <td>East Africa</td>\n",
       "      <td>India</td>\n",
       "      <td>Neutral</td>\n",
       "      <td>Neutral</td>\n",
       "      <td>1</td>\n",
       "      <td>2</td>\n",
       "    </tr>\n",
       "  </tbody>\n",
       "</table>\n",
       "<p>3747 rows × 12 columns</p>\n",
       "</div>"
      ],
      "text/plain": [
       "       Scorecard        Team1        Team2 WinnerBatInnings        Ground  \\\n",
       "0        ODI # 1    Australia      England                2     Melbourne   \n",
       "1        ODI # 2      England    Australia                2    Manchester   \n",
       "2        ODI # 3      England    Australia                2        Lord's   \n",
       "3        ODI # 4      England    Australia                2    Birmingham   \n",
       "4        ODI # 5  New Zealand     Pakistan                1  Christchurch   \n",
       "...          ...          ...          ...              ...           ...   \n",
       "3742  ODI # 3931        India  New Zealand                2          Pune   \n",
       "3743  ODI # 3932        India  New Zealand                1        Kanpur   \n",
       "3744  ODI # 3933    Hong Kong      Namibia                2        Mumbai   \n",
       "3745  ODI # 3934      Bermuda       U.S.A.                2        Mumbai   \n",
       "3746  ODI # 3935  East Africa      Namibia                1        Mumbai   \n",
       "\n",
       "        Match_date       Winner Host_Country Venue_Team1 Venue_Team2  \\\n",
       "0      Jan 5, 1971    Australia    Australia        Home        Away   \n",
       "1     Aug 24, 1972      England      England        Home        Away   \n",
       "2     Aug 26, 1972    Australia      England        Home        Away   \n",
       "3     Aug 28, 1972      England      England        Home        Away   \n",
       "4     Feb 11, 1973  New Zealand  New Zealand        Home        Away   \n",
       "...            ...          ...          ...         ...         ...   \n",
       "3742  Oct 25, 2017        India        India        Home        Away   \n",
       "3743  Oct 29, 2017        India        India        Home        Away   \n",
       "3744  Aug 12, 2017      Namibia        India     Neutral     Neutral   \n",
       "3745  Aug 12, 2017       U.S.A.        India     Neutral     Neutral   \n",
       "3746  Aug 12, 2017  East Africa        India     Neutral     Neutral   \n",
       "\n",
       "     Innings_Team1 Innings_Team2  \n",
       "0                2             1  \n",
       "1                2             1  \n",
       "2                1             2  \n",
       "3                2             1  \n",
       "4                1             2  \n",
       "...            ...           ...  \n",
       "3742             2             1  \n",
       "3743             1             2  \n",
       "3744             1             2  \n",
       "3745             1             2  \n",
       "3746             1             2  \n",
       "\n",
       "[3747 rows x 12 columns]"
      ]
     },
     "execution_count": 226,
     "metadata": {},
     "output_type": "execute_result"
    }
   ],
   "source": [
    "odi_df.rename(columns = {'Team 1':'Team1', 'Team 2':'Team2','Margin':'WinnerBatInnings','Match Date':'Match_date'}, inplace = True)\n",
    "odi_df"
   ]
  },
  {
   "cell_type": "code",
   "execution_count": 227,
   "metadata": {},
   "outputs": [],
   "source": [
    "odi_df['WinnerBatInnings']=pd.to_numeric(odi_df.WinnerBatInnings,errors='coerce')\n",
    "odi_df['Innings_Team1']=pd.to_numeric(odi_df.Innings_Team1,errors='coerce')\n",
    "odi_df['Innings_Team2']=pd.to_numeric(odi_df.Innings_Team2,errors='coerce')\n",
    "odi_df['Match_date']=pd.to_datetime(odi_df.Match_date,errors='coerce')\n"
   ]
  },
  {
   "cell_type": "code",
   "execution_count": 235,
   "metadata": {},
   "outputs": [
    {
     "data": {
      "text/html": [
       "<div>\n",
       "<style scoped>\n",
       "    .dataframe tbody tr th:only-of-type {\n",
       "        vertical-align: middle;\n",
       "    }\n",
       "\n",
       "    .dataframe tbody tr th {\n",
       "        vertical-align: top;\n",
       "    }\n",
       "\n",
       "    .dataframe thead th {\n",
       "        text-align: right;\n",
       "    }\n",
       "</style>\n",
       "<table border=\"1\" class=\"dataframe\">\n",
       "  <thead>\n",
       "    <tr style=\"text-align: right;\">\n",
       "      <th></th>\n",
       "      <th>Scorecard</th>\n",
       "      <th>Team1</th>\n",
       "      <th>Team2</th>\n",
       "      <th>WinnerBatInnings</th>\n",
       "      <th>Ground</th>\n",
       "      <th>Match_date</th>\n",
       "      <th>Winner</th>\n",
       "      <th>Host_Country</th>\n",
       "      <th>Venue_Team1</th>\n",
       "      <th>Venue_Team2</th>\n",
       "      <th>Innings_Team1</th>\n",
       "      <th>Innings_Team2</th>\n",
       "    </tr>\n",
       "  </thead>\n",
       "  <tbody>\n",
       "    <tr>\n",
       "      <th>0</th>\n",
       "      <td>ODI # 1</td>\n",
       "      <td>Australia</td>\n",
       "      <td>England</td>\n",
       "      <td>2</td>\n",
       "      <td>Melbourne</td>\n",
       "      <td>1971-01-05</td>\n",
       "      <td>Australia</td>\n",
       "      <td>Australia</td>\n",
       "      <td>Home</td>\n",
       "      <td>Away</td>\n",
       "      <td>2</td>\n",
       "      <td>1</td>\n",
       "    </tr>\n",
       "    <tr>\n",
       "      <th>1</th>\n",
       "      <td>ODI # 2</td>\n",
       "      <td>England</td>\n",
       "      <td>Australia</td>\n",
       "      <td>2</td>\n",
       "      <td>Manchester</td>\n",
       "      <td>1972-08-24</td>\n",
       "      <td>England</td>\n",
       "      <td>England</td>\n",
       "      <td>Home</td>\n",
       "      <td>Away</td>\n",
       "      <td>2</td>\n",
       "      <td>1</td>\n",
       "    </tr>\n",
       "    <tr>\n",
       "      <th>2</th>\n",
       "      <td>ODI # 3</td>\n",
       "      <td>England</td>\n",
       "      <td>Australia</td>\n",
       "      <td>2</td>\n",
       "      <td>Lord's</td>\n",
       "      <td>1972-08-26</td>\n",
       "      <td>Australia</td>\n",
       "      <td>England</td>\n",
       "      <td>Home</td>\n",
       "      <td>Away</td>\n",
       "      <td>1</td>\n",
       "      <td>2</td>\n",
       "    </tr>\n",
       "    <tr>\n",
       "      <th>3</th>\n",
       "      <td>ODI # 4</td>\n",
       "      <td>England</td>\n",
       "      <td>Australia</td>\n",
       "      <td>2</td>\n",
       "      <td>Birmingham</td>\n",
       "      <td>1972-08-28</td>\n",
       "      <td>England</td>\n",
       "      <td>England</td>\n",
       "      <td>Home</td>\n",
       "      <td>Away</td>\n",
       "      <td>2</td>\n",
       "      <td>1</td>\n",
       "    </tr>\n",
       "    <tr>\n",
       "      <th>4</th>\n",
       "      <td>ODI # 5</td>\n",
       "      <td>New Zealand</td>\n",
       "      <td>Pakistan</td>\n",
       "      <td>1</td>\n",
       "      <td>Christchurch</td>\n",
       "      <td>1973-02-11</td>\n",
       "      <td>New Zealand</td>\n",
       "      <td>New Zealand</td>\n",
       "      <td>Home</td>\n",
       "      <td>Away</td>\n",
       "      <td>1</td>\n",
       "      <td>2</td>\n",
       "    </tr>\n",
       "    <tr>\n",
       "      <th>5</th>\n",
       "      <td>ODI # 6</td>\n",
       "      <td>England</td>\n",
       "      <td>New Zealand</td>\n",
       "      <td>2</td>\n",
       "      <td>Swansea</td>\n",
       "      <td>1973-07-18</td>\n",
       "      <td>England</td>\n",
       "      <td>England</td>\n",
       "      <td>Home</td>\n",
       "      <td>Away</td>\n",
       "      <td>2</td>\n",
       "      <td>1</td>\n",
       "    </tr>\n",
       "    <tr>\n",
       "      <th>6</th>\n",
       "      <td>ODI # 8</td>\n",
       "      <td>England</td>\n",
       "      <td>West Indies</td>\n",
       "      <td>2</td>\n",
       "      <td>Leeds</td>\n",
       "      <td>1973-09-05</td>\n",
       "      <td>England</td>\n",
       "      <td>England</td>\n",
       "      <td>Home</td>\n",
       "      <td>Away</td>\n",
       "      <td>2</td>\n",
       "      <td>1</td>\n",
       "    </tr>\n",
       "    <tr>\n",
       "      <th>7</th>\n",
       "      <td>ODI # 9</td>\n",
       "      <td>England</td>\n",
       "      <td>West Indies</td>\n",
       "      <td>2</td>\n",
       "      <td>The Oval</td>\n",
       "      <td>1973-09-07</td>\n",
       "      <td>West Indies</td>\n",
       "      <td>England</td>\n",
       "      <td>Home</td>\n",
       "      <td>Away</td>\n",
       "      <td>1</td>\n",
       "      <td>2</td>\n",
       "    </tr>\n",
       "    <tr>\n",
       "      <th>8</th>\n",
       "      <td>ODI # 10</td>\n",
       "      <td>New Zealand</td>\n",
       "      <td>Australia</td>\n",
       "      <td>2</td>\n",
       "      <td>Dunedin</td>\n",
       "      <td>1974-03-30</td>\n",
       "      <td>Australia</td>\n",
       "      <td>New Zealand</td>\n",
       "      <td>Home</td>\n",
       "      <td>Away</td>\n",
       "      <td>1</td>\n",
       "      <td>2</td>\n",
       "    </tr>\n",
       "    <tr>\n",
       "      <th>9</th>\n",
       "      <td>ODI # 11</td>\n",
       "      <td>New Zealand</td>\n",
       "      <td>Australia</td>\n",
       "      <td>1</td>\n",
       "      <td>Christchurch</td>\n",
       "      <td>1974-03-31</td>\n",
       "      <td>Australia</td>\n",
       "      <td>New Zealand</td>\n",
       "      <td>Home</td>\n",
       "      <td>Away</td>\n",
       "      <td>2</td>\n",
       "      <td>1</td>\n",
       "    </tr>\n",
       "    <tr>\n",
       "      <th>10</th>\n",
       "      <td>ODI # 12</td>\n",
       "      <td>England</td>\n",
       "      <td>India</td>\n",
       "      <td>2</td>\n",
       "      <td>Leeds</td>\n",
       "      <td>1974-07-13</td>\n",
       "      <td>England</td>\n",
       "      <td>England</td>\n",
       "      <td>Home</td>\n",
       "      <td>Away</td>\n",
       "      <td>2</td>\n",
       "      <td>1</td>\n",
       "    </tr>\n",
       "    <tr>\n",
       "      <th>11</th>\n",
       "      <td>ODI # 13</td>\n",
       "      <td>England</td>\n",
       "      <td>India</td>\n",
       "      <td>2</td>\n",
       "      <td>The Oval</td>\n",
       "      <td>NaT</td>\n",
       "      <td>England</td>\n",
       "      <td>England</td>\n",
       "      <td>Home</td>\n",
       "      <td>Away</td>\n",
       "      <td>2</td>\n",
       "      <td>1</td>\n",
       "    </tr>\n",
       "    <tr>\n",
       "      <th>12</th>\n",
       "      <td>ODI # 14</td>\n",
       "      <td>England</td>\n",
       "      <td>Pakistan</td>\n",
       "      <td>2</td>\n",
       "      <td>Nottingham</td>\n",
       "      <td>1974-08-31</td>\n",
       "      <td>Pakistan</td>\n",
       "      <td>England</td>\n",
       "      <td>Home</td>\n",
       "      <td>Away</td>\n",
       "      <td>1</td>\n",
       "      <td>2</td>\n",
       "    </tr>\n",
       "    <tr>\n",
       "      <th>13</th>\n",
       "      <td>ODI # 15</td>\n",
       "      <td>England</td>\n",
       "      <td>Pakistan</td>\n",
       "      <td>2</td>\n",
       "      <td>Birmingham</td>\n",
       "      <td>1974-09-03</td>\n",
       "      <td>Pakistan</td>\n",
       "      <td>England</td>\n",
       "      <td>Home</td>\n",
       "      <td>Away</td>\n",
       "      <td>1</td>\n",
       "      <td>2</td>\n",
       "    </tr>\n",
       "    <tr>\n",
       "      <th>14</th>\n",
       "      <td>ODI # 16</td>\n",
       "      <td>Australia</td>\n",
       "      <td>England</td>\n",
       "      <td>2</td>\n",
       "      <td>Melbourne</td>\n",
       "      <td>1975-01-01</td>\n",
       "      <td>England</td>\n",
       "      <td>Australia</td>\n",
       "      <td>Home</td>\n",
       "      <td>Away</td>\n",
       "      <td>1</td>\n",
       "      <td>2</td>\n",
       "    </tr>\n",
       "    <tr>\n",
       "      <th>15</th>\n",
       "      <td>ODI # 19</td>\n",
       "      <td>England</td>\n",
       "      <td>India</td>\n",
       "      <td>1</td>\n",
       "      <td>Lord's</td>\n",
       "      <td>1975-06-07</td>\n",
       "      <td>England</td>\n",
       "      <td>England</td>\n",
       "      <td>Home</td>\n",
       "      <td>Away</td>\n",
       "      <td>1</td>\n",
       "      <td>2</td>\n",
       "    </tr>\n",
       "    <tr>\n",
       "      <th>16</th>\n",
       "      <td>ODI # 20</td>\n",
       "      <td>East Africa</td>\n",
       "      <td>New Zealand</td>\n",
       "      <td>1</td>\n",
       "      <td>Birmingham</td>\n",
       "      <td>1975-06-07</td>\n",
       "      <td>New Zealand</td>\n",
       "      <td>England</td>\n",
       "      <td>Neutral</td>\n",
       "      <td>Neutral</td>\n",
       "      <td>2</td>\n",
       "      <td>1</td>\n",
       "    </tr>\n",
       "    <tr>\n",
       "      <th>17</th>\n",
       "      <td>ODI # 21</td>\n",
       "      <td>Australia</td>\n",
       "      <td>Pakistan</td>\n",
       "      <td>1</td>\n",
       "      <td>Leeds</td>\n",
       "      <td>1975-06-07</td>\n",
       "      <td>Australia</td>\n",
       "      <td>England</td>\n",
       "      <td>Neutral</td>\n",
       "      <td>Neutral</td>\n",
       "      <td>1</td>\n",
       "      <td>2</td>\n",
       "    </tr>\n",
       "    <tr>\n",
       "      <th>18</th>\n",
       "      <td>ODI # 22</td>\n",
       "      <td>Sri Lanka</td>\n",
       "      <td>West Indies</td>\n",
       "      <td>2</td>\n",
       "      <td>Manchester</td>\n",
       "      <td>1975-06-07</td>\n",
       "      <td>West Indies</td>\n",
       "      <td>England</td>\n",
       "      <td>Neutral</td>\n",
       "      <td>Neutral</td>\n",
       "      <td>1</td>\n",
       "      <td>2</td>\n",
       "    </tr>\n",
       "    <tr>\n",
       "      <th>19</th>\n",
       "      <td>ODI # 23</td>\n",
       "      <td>England</td>\n",
       "      <td>New Zealand</td>\n",
       "      <td>1</td>\n",
       "      <td>Nottingham</td>\n",
       "      <td>1975-06-11</td>\n",
       "      <td>England</td>\n",
       "      <td>England</td>\n",
       "      <td>Home</td>\n",
       "      <td>Away</td>\n",
       "      <td>1</td>\n",
       "      <td>2</td>\n",
       "    </tr>\n",
       "  </tbody>\n",
       "</table>\n",
       "</div>"
      ],
      "text/plain": [
       "   Scorecard        Team1        Team2  WinnerBatInnings        Ground  \\\n",
       "0    ODI # 1    Australia      England                 2     Melbourne   \n",
       "1    ODI # 2      England    Australia                 2    Manchester   \n",
       "2    ODI # 3      England    Australia                 2        Lord's   \n",
       "3    ODI # 4      England    Australia                 2    Birmingham   \n",
       "4    ODI # 5  New Zealand     Pakistan                 1  Christchurch   \n",
       "5    ODI # 6      England  New Zealand                 2       Swansea   \n",
       "6    ODI # 8      England  West Indies                 2         Leeds   \n",
       "7    ODI # 9      England  West Indies                 2      The Oval   \n",
       "8   ODI # 10  New Zealand    Australia                 2       Dunedin   \n",
       "9   ODI # 11  New Zealand    Australia                 1  Christchurch   \n",
       "10  ODI # 12      England        India                 2         Leeds   \n",
       "11  ODI # 13      England        India                 2      The Oval   \n",
       "12  ODI # 14      England     Pakistan                 2    Nottingham   \n",
       "13  ODI # 15      England     Pakistan                 2    Birmingham   \n",
       "14  ODI # 16    Australia      England                 2     Melbourne   \n",
       "15  ODI # 19      England        India                 1        Lord's   \n",
       "16  ODI # 20  East Africa  New Zealand                 1    Birmingham   \n",
       "17  ODI # 21    Australia     Pakistan                 1         Leeds   \n",
       "18  ODI # 22    Sri Lanka  West Indies                 2    Manchester   \n",
       "19  ODI # 23      England  New Zealand                 1    Nottingham   \n",
       "\n",
       "   Match_date       Winner Host_Country Venue_Team1 Venue_Team2  \\\n",
       "0  1971-01-05    Australia    Australia        Home        Away   \n",
       "1  1972-08-24      England      England        Home        Away   \n",
       "2  1972-08-26    Australia      England        Home        Away   \n",
       "3  1972-08-28      England      England        Home        Away   \n",
       "4  1973-02-11  New Zealand  New Zealand        Home        Away   \n",
       "5  1973-07-18      England      England        Home        Away   \n",
       "6  1973-09-05      England      England        Home        Away   \n",
       "7  1973-09-07  West Indies      England        Home        Away   \n",
       "8  1974-03-30    Australia  New Zealand        Home        Away   \n",
       "9  1974-03-31    Australia  New Zealand        Home        Away   \n",
       "10 1974-07-13      England      England        Home        Away   \n",
       "11        NaT      England      England        Home        Away   \n",
       "12 1974-08-31     Pakistan      England        Home        Away   \n",
       "13 1974-09-03     Pakistan      England        Home        Away   \n",
       "14 1975-01-01      England    Australia        Home        Away   \n",
       "15 1975-06-07      England      England        Home        Away   \n",
       "16 1975-06-07  New Zealand      England     Neutral     Neutral   \n",
       "17 1975-06-07    Australia      England     Neutral     Neutral   \n",
       "18 1975-06-07  West Indies      England     Neutral     Neutral   \n",
       "19 1975-06-11      England      England        Home        Away   \n",
       "\n",
       "    Innings_Team1  Innings_Team2  \n",
       "0               2              1  \n",
       "1               2              1  \n",
       "2               1              2  \n",
       "3               2              1  \n",
       "4               1              2  \n",
       "5               2              1  \n",
       "6               2              1  \n",
       "7               1              2  \n",
       "8               1              2  \n",
       "9               2              1  \n",
       "10              2              1  \n",
       "11              2              1  \n",
       "12              1              2  \n",
       "13              1              2  \n",
       "14              1              2  \n",
       "15              1              2  \n",
       "16              2              1  \n",
       "17              1              2  \n",
       "18              1              2  \n",
       "19              1              2  "
      ]
     },
     "execution_count": 235,
     "metadata": {},
     "output_type": "execute_result"
    }
   ],
   "source": [
    "odi_df.head(20)"
   ]
  },
  {
   "cell_type": "code",
   "execution_count": 229,
   "metadata": {},
   "outputs": [
    {
     "data": {
      "text/plain": [
       "pandas.core.series.Series"
      ]
     },
     "execution_count": 229,
     "metadata": {},
     "output_type": "execute_result"
    }
   ],
   "source": [
    "type(odi_df.loc[243])\n"
   ]
  },
  {
   "cell_type": "code",
   "execution_count": 230,
   "metadata": {},
   "outputs": [
    {
     "data": {
      "text/plain": [
       "['Australia',\n",
       " 'England',\n",
       " 'New Zealand',\n",
       " 'East Africa',\n",
       " 'Sri Lanka',\n",
       " 'Pakistan',\n",
       " 'India',\n",
       " 'West Indies',\n",
       " 'Canada',\n",
       " 'Bangladesh',\n",
       " 'South Africa',\n",
       " 'Zimbabwe',\n",
       " 'U.A.E.',\n",
       " 'Netherlands',\n",
       " 'Kenya',\n",
       " 'Scotland',\n",
       " 'Namibia',\n",
       " 'Hong Kong',\n",
       " 'Bermuda',\n",
       " 'Ireland',\n",
       " 'Afghanistan',\n",
       " 'P.N.G.',\n",
       " 'U.S.A.']"
      ]
     },
     "execution_count": 230,
     "metadata": {},
     "output_type": "execute_result"
    }
   ],
   "source": [
    "unique_teams=list(odi_df['Team1'].unique())\n",
    "y=list(odi_df['Team2'].unique())\n",
    "for team2 in y:\n",
    "    if team2 not in unique_teams:\n",
    "        unique_teams.append(team2)\n",
    "unique_teams"
   ]
  },
  {
   "cell_type": "code",
   "execution_count": 231,
   "metadata": {},
   "outputs": [
    {
     "data": {
      "text/plain": [
       "array(['Melbourne', 'Manchester', \"Lord's\", 'Birmingham', 'Christchurch',\n",
       "       'Swansea', 'Leeds', 'The Oval', 'Dunedin', 'Nottingham',\n",
       "       'Adelaide', 'Auckland', 'Scarborough', 'Sialkot', 'Albion',\n",
       "       'Sahiwal', 'Lahore', \"St John's\", 'Castries', 'Quetta', 'Sydney',\n",
       "       'Brisbane', 'Karachi', 'Perth', 'Kingstown', 'Hamilton',\n",
       "       'Ahmedabad', 'Jalandhar', 'Cuttack', 'Colombo', 'Wellington',\n",
       "       'Amritsar', 'Delhi', 'Hyderabad', 'Bengaluru', 'Gujranwala',\n",
       "       'Multan', 'Port of Spain', 'Napier', \"St George's\", 'Taunton',\n",
       "       'Leicester', 'Bristol', 'Worcester', 'Southampton', 'Derby',\n",
       "       'Tunbridge Wells', 'Chelmsford', 'Jaipur', 'Srinagar', 'Vadodara',\n",
       "       'Indore', 'Jamshedpur', 'Guwahati', 'Moratuwa', 'Sharjah',\n",
       "       'Kingston', 'New Delhi', 'Peshawar', 'Faisalabad', 'Pune',\n",
       "       'Hobart', 'Nagpur', 'Chandigarh', 'Bridgetown', 'Rawalpindi',\n",
       "       'Launceston', 'Kandy', 'Rajkot', 'Kanpur', 'Mumbai', 'Devonport',\n",
       "       'Kolkata', 'Chennai', 'Faridabad', 'Gwalior', 'Thiruvananthapuram',\n",
       "       'Georgetown', 'Dhaka', 'Chittagong', 'Visakhapatnam', 'Margao',\n",
       "       'Lucknow', 'Sargodha', 'New Plymouth', 'Ballarat', 'Canberra',\n",
       "       'Berri', 'Albury', 'Harare', 'Bulawayo', 'Cape Town',\n",
       "       'Port Elizabeth', 'Centurion', 'Johannesburg', 'Bloemfontein',\n",
       "       'Durban', 'East London', 'Patna', 'Mohali', 'Singapore', 'Toronto',\n",
       "       'Nairobi', 'Benoni', 'Kochi', 'Kimberley', 'Paarl', 'Sheikhupura',\n",
       "       'Taupo', 'Hove', 'Canterbury', 'Northampton', 'Cardiff', 'Chester',\n",
       "       'Dublin', 'Edinburgh', 'Amstelveen', 'Galle', 'Jodhpur',\n",
       "       'Dambulla', 'Gros Islet', 'Tangier', 'Potchefstroom', 'Vijayawada',\n",
       "       'Kwekwe', 'Queenstown', 'Pietermaritzburg', 'Cairns', 'Darwin',\n",
       "       'Bogra', 'Khulna', 'Fatullah', 'Abu Dhabi', 'Basseterre',\n",
       "       'Belfast', 'Ayr', 'Kuala Lumpur', 'Mombasa', 'North Sound',\n",
       "       'Providence', 'Glasgow', 'Rotterdam', 'King City', 'Aberdeen',\n",
       "       'Dubai', 'Roseau', 'The Hague', 'Schiedam', 'Hambantota',\n",
       "       'Pallekele', 'Whangarei', 'Ranchi', 'Dharamsala', 'ICCA Dubai',\n",
       "       'Nelson', 'Lincoln', 'Mount Maunganui', 'Townsville', 'Mong Kok',\n",
       "       'Greater Noida', 'Port Moresby'], dtype=object)"
      ]
     },
     "execution_count": 231,
     "metadata": {},
     "output_type": "execute_result"
    }
   ],
   "source": [
    "Grounds=odi_df['Ground'].unique()\n",
    "Grounds"
   ]
  },
  {
   "cell_type": "markdown",
   "metadata": {},
   "source": [
    "## Exploratory Analysis and Visualization\n",
    "\n",
    "For the analysis of our cleaned dataset, we will employ various visualizations to study patterns and derive inferences.\n",
    "\n"
   ]
  },
  {
   "cell_type": "markdown",
   "metadata": {},
   "source": [
    "Let's begin by importing`matplotlib.pyplot` and `seaborn`."
   ]
  },
  {
   "cell_type": "code",
   "execution_count": 435,
   "metadata": {},
   "outputs": [],
   "source": [
    "import seaborn as sns\n",
    "import matplotlib\n",
    "import matplotlib.pyplot as plt\n",
    "%matplotlib inline\n",
    "\n",
    "sns.set_style('darkgrid')\n",
    "matplotlib.rcParams['font.size'] = 10\n",
    "matplotlib.rcParams['figure.figsize'] = (9, 5)\n",
    "matplotlib.rcParams['figure.facecolor'] = '#00000000'"
   ]
  },
  {
   "cell_type": "markdown",
   "metadata": {},
   "source": [
    "#### Q- Top 10 grounds by number of matches played?"
   ]
  },
  {
   "cell_type": "code",
   "execution_count": 101,
   "metadata": {},
   "outputs": [
    {
     "data": {
      "text/plain": [
       "Sharjah      226\n",
       "Colombo      179\n",
       "Dhaka        154\n",
       "Melbourne    150\n",
       "Sydney       147\n",
       "Harare       134\n",
       "Adelaide      80\n",
       "Perth         79\n",
       "Nairobi       77\n",
       "Brisbane      72\n",
       "Name: Ground, dtype: int64"
      ]
     },
     "execution_count": 101,
     "metadata": {},
     "output_type": "execute_result"
    }
   ],
   "source": [
    "grounds=odi_df.Ground.value_counts().head(10)\n",
    "grounds"
   ]
  },
  {
   "cell_type": "code",
   "execution_count": 405,
   "metadata": {},
   "outputs": [
    {
     "data": {
      "image/png": "[encoded data removed]",
      "text/plain": [
       "<Figure size 1080x432 with 1 Axes>"
      ]
     },
     "metadata": {},
     "output_type": "display_data"
    }
   ],
   "source": [
    "plt.figure(figsize=(15,6))\n",
    "plt.title('Matches per Grounds')\n",
    "plt.pie(grounds,labels=grounds.index,autopct='%1.1f%%');"
   ]
  },
  {
   "cell_type": "markdown",
   "metadata": {},
   "source": [
    "#### Q- Which countries have played the maximum number of matches and plot them as a bar graph."
   ]
  },
  {
   "cell_type": "code",
   "execution_count": 32,
   "metadata": {},
   "outputs": [
    {
     "data": {
      "text/plain": [
       "India           880.0\n",
       "Australia       859.0\n",
       "Pakistan        854.0\n",
       "Sri Lanka       766.0\n",
       "West Indies     731.0\n",
       "New Zealand     686.0\n",
       "England         664.0\n",
       "South Africa    561.0\n",
       "Zimbabwe        474.0\n",
       "Bangladesh      328.0\n",
       "Kenya           149.0\n",
       "Ireland         113.0\n",
       "Scotland         87.0\n",
       "Afghanistan      81.0\n",
       "Canada           75.0\n",
       "Netherlands      72.0\n",
       "Bermuda          36.0\n",
       "U.A.E.           35.0\n",
       "Hong Kong        18.0\n",
       "P.N.G.           10.0\n",
       "Namibia           8.0\n",
       "East Africa       4.0\n",
       "U.S.A.            3.0\n",
       "dtype: float64"
      ]
     },
     "execution_count": 32,
     "metadata": {},
     "output_type": "execute_result"
    }
   ],
   "source": [
    "Team1_df=odi_df.Team1.value_counts()\n",
    "Team2_df=odi_df.Team2.value_counts()\n",
    "Total_df=Team1_df+Team2_df\n",
    "Total_df.sort_values(ascending=False,inplace=True)\n",
    "head_count=Total_df.head(100)\n",
    "head_count['U.S.A.']=3\n",
    "head_count"
   ]
  },
  {
   "cell_type": "code",
   "execution_count": 33,
   "metadata": {},
   "outputs": [
    {
     "data": {
      "image/png": "[encoded data removed]",
      "text/plain": [
       "<Figure size 2160x432 with 1 Axes>"
      ]
     },
     "metadata": {
      "needs_background": "light"
     },
     "output_type": "display_data"
    }
   ],
   "source": [
    "plt.figure(figsize=(30,6))\n",
    "plt.title(\"Matches played by each team\")\n",
    "sns.barplot(x=head_count.index,y=head_count);"
   ]
  },
  {
   "cell_type": "markdown",
   "metadata": {},
   "source": [
    "#### Q- How many neutral venue games?"
   ]
  },
  {
   "cell_type": "code",
   "execution_count": 39,
   "metadata": {},
   "outputs": [
    {
     "data": {
      "text/plain": [
       "1138"
      ]
     },
     "execution_count": 39,
     "metadata": {},
     "output_type": "execute_result"
    }
   ],
   "source": [
    "(odi_df.Venue_Team1=='Neutral').sum()"
   ]
  },
  {
   "cell_type": "markdown",
   "metadata": {},
   "source": [
    "#### Q- Which countries played most neutral games?"
   ]
  },
  {
   "cell_type": "code",
   "execution_count": 64,
   "metadata": {},
   "outputs": [
    {
     "data": {
      "text/plain": [
       "Pakistan        387.0\n",
       "India           290.0\n",
       "Sri Lanka       285.0\n",
       "West Indies     222.0\n",
       "New Zealand     179.0\n",
       "Australia       155.0\n",
       "South Africa    144.0\n",
       "England         120.0\n",
       "Bangladesh       64.0\n",
       "Kenya            51.0\n",
       "dtype: float64"
      ]
     },
     "execution_count": 64,
     "metadata": {},
     "output_type": "execute_result"
    }
   ],
   "source": [
    "Neutral_df=odi_df[odi_df.Venue_Team1=='Neutral']\n",
    "Team1_df=Neutral_df.Team1.value_counts()\n",
    "Team2_df=Neutral_df.Team2.value_counts()\n",
    "Total_neutral_df=(Team1_df+Team2_df).sort_values(ascending=False).head(10)\n",
    "Total_neutral_df"
   ]
  },
  {
   "cell_type": "code",
   "execution_count": 68,
   "metadata": {},
   "outputs": [
    {
     "data": {
      "image/png": "[encoded data removed]",
      "text/plain": [
       "<Figure size 1368x432 with 1 Axes>"
      ]
     },
     "metadata": {
      "needs_background": "light"
     },
     "output_type": "display_data"
    }
   ],
   "source": [
    "plt.figure(figsize=(19,6))\n",
    "plt.title(\"Neutral games played by countries\")\n",
    "sns.barplot(x=Total_neutral_df.index,y=Total_neutral_df);"
   ]
  },
  {
   "cell_type": "markdown",
   "metadata": {},
   "source": [
    "  #### Q- What % of total games are played at neutral venues?"
   ]
  },
  {
   "cell_type": "code",
   "execution_count": 135,
   "metadata": {},
   "outputs": [
    {
     "name": "stdout",
     "output_type": "stream",
     "text": [
      "Total_neutral_games: 1138\n",
      "Non_neutral_games: 2609\n",
      "Total_games: 3747\n"
     ]
    },
    {
     "data": {
      "image/png": "[encoded data removed]",
      "text/plain": [
       "<Figure size 8640x432 with 1 Axes>"
      ]
     },
     "metadata": {},
     "output_type": "display_data"
    }
   ],
   "source": [
    "Total_neutral_games=Neutral_df.Scorecard.count()\n",
    "print(\"Total_neutral_games: {}\".format(Total_neutral_games))\n",
    "Non_neutral_games=Total_games-Total_neutral_games\n",
    "print(\"Non_neutral_games: {}\".format(Non_neutral_games))\n",
    "Total_games=odi_df.Scorecard.count()\n",
    "print(\"Total_games: {}\".format(Total_games))\n",
    "arr={'Neutral venue games' : Total_neutral_games,\n",
    "     'Regular games' : Non_neutral_games}\n",
    "plt.figure(figsize=(120,6))\n",
    "plt.title('% of neutral games',fontsize=14,loc='center')\n",
    "Labels = [k for k in arr.keys()]\n",
    "Data   = [float(v) for v in arr.values()]\n",
    "plt.pie(x = Data, labels=Labels, colors=['skyblue','navajowhite'],explode=(0.025,0.025),autopct='%1.1f%%', startangle=180)\n",
    "plt.legend(loc='upper left',fontsize=8);"
   ]
  },
  {
   "cell_type": "markdown",
   "metadata": {},
   "source": [
    "#### Q-  Which teams played most matches against each other?"
   ]
  },
  {
   "cell_type": "code",
   "execution_count": 318,
   "metadata": {},
   "outputs": [
    {
     "data": {
      "text/plain": [
       "Pakistan:Sri Lanka       110\n",
       "Pakistan:West Indies      99\n",
       "India:Pakistan            99\n",
       "Australia:West Indies     90\n",
       "India:Sri Lanka           87\n",
       "Australia:Pakistan        84\n",
       "India:West Indies         83\n",
       "Australia:New Zealand     78\n",
       "New Zealand:Pakistan      75\n",
       "Australia:England         73\n",
       "dtype: int64"
      ]
     },
     "execution_count": 318,
     "metadata": {},
     "output_type": "execute_result"
    }
   ],
   "source": [
    "x=(odi_df.Team1+ ':' + odi_df.Team2).value_counts().head(10)\n",
    "x"
   ]
  },
  {
   "cell_type": "markdown",
   "metadata": {},
   "source": [
    "Pakistan and Sri lanka have faced each other the most number of times"
   ]
  },
  {
   "cell_type": "code",
   "execution_count": 337,
   "metadata": {},
   "outputs": [
    {
     "data": {
      "image/png": "[encoded data removed]",
      "text/plain": [
       "<Figure size 648x360 with 1 Axes>"
      ]
     },
     "metadata": {},
     "output_type": "display_data"
    }
   ],
   "source": [
    "plt.title('Country that hosts the most matches')\n",
    "host=odi_df.Host_Country.value_counts().head(10)\n",
    "plt.pie(host,labels=host.index,autopct='%1.0f%%');"
   ]
  },
  {
   "cell_type": "markdown",
   "metadata": {},
   "source": [
    "   #### Q- Most number of matches played on the same day?"
   ]
  },
  {
   "cell_type": "code",
   "execution_count": 501,
   "metadata": {},
   "outputs": [],
   "source": [
    "Most_matches_per_day=odi_df.Match_date.value_counts().head(20)"
   ]
  },
  {
   "cell_type": "code",
   "execution_count": 502,
   "metadata": {},
   "outputs": [
    {
     "data": {
      "text/plain": [
       "2007-02-04    6\n",
       "1975-06-07    4\n",
       "1983-06-20    4\n",
       "1975-06-11    4\n",
       "2007-01-31    4\n",
       "2007-02-02    4\n",
       "1979-06-09    4\n",
       "1983-06-18    4\n",
       "1983-06-13    4\n",
       "2010-07-10    4\n",
       "1975-06-14    4\n",
       "2007-01-21    3\n",
       "2007-01-30    3\n",
       "1979-06-16    3\n",
       "1987-10-30    3\n",
       "2003-02-19    3\n",
       "2003-02-16    3\n",
       "2017-08-12    3\n",
       "2002-01-22    3\n",
       "1998-04-05    3\n",
       "Name: Match_date, dtype: int64"
      ]
     },
     "execution_count": 502,
     "metadata": {},
     "output_type": "execute_result"
    }
   ],
   "source": [
    "Most_matches_per_day"
   ]
  },
  {
   "cell_type": "markdown",
   "metadata": {},
   "source": [
    "#### Q-Number of matches played per year?"
   ]
  },
  {
   "cell_type": "code",
   "execution_count": 530,
   "metadata": {},
   "outputs": [
    {
     "data": {
      "text/plain": [
       "2007    179\n",
       "2006    154\n",
       "1999    144\n",
       "2009    144\n",
       "2015    142\n",
       "2011    142\n",
       "2003    142\n",
       "2010    139\n",
       "2002    137\n",
       "2000    125\n",
       "Name: Year, dtype: int64"
      ]
     },
     "execution_count": 530,
     "metadata": {},
     "output_type": "execute_result"
    }
   ],
   "source": [
    "odi_df['Year'] = pd.DatetimeIndex(odi_df['Match_date']).year.astype('Int64')\n",
    "odi_df['Year'].value_counts()\n",
    "\n",
    "x_year=odi_df['Year'].value_counts().head(10)\n",
    "x_year\n"
   ]
  },
  {
   "cell_type": "code",
   "execution_count": 660,
   "metadata": {},
   "outputs": [
    {
     "data": {
      "image/png": "[encoded data removed]",
      "text/plain": [
       "<Figure size 1368x360 with 1 Axes>"
      ]
     },
     "metadata": {
      "needs_background": "light"
     },
     "output_type": "display_data"
    }
   ],
   "source": [
    "g = sns.countplot(x=odi_df['Year'],palette=\"pastel\");"
   ]
  },
  {
   "cell_type": "markdown",
   "metadata": {},
   "source": [
    "#### Q- Teams matches per month?"
   ]
  },
  {
   "cell_type": "code",
   "execution_count": 307,
   "metadata": {},
   "outputs": [
    {
     "data": {
      "text/html": [
       "<div>\n",
       "<style scoped>\n",
       "    .dataframe tbody tr th:only-of-type {\n",
       "        vertical-align: middle;\n",
       "    }\n",
       "\n",
       "    .dataframe tbody tr th {\n",
       "        vertical-align: top;\n",
       "    }\n",
       "\n",
       "    .dataframe thead th {\n",
       "        text-align: right;\n",
       "    }\n",
       "</style>\n",
       "<table border=\"1\" class=\"dataframe\">\n",
       "  <thead>\n",
       "    <tr style=\"text-align: right;\">\n",
       "      <th></th>\n",
       "      <th></th>\n",
       "      <th>Scorecard</th>\n",
       "    </tr>\n",
       "    <tr>\n",
       "      <th>Year</th>\n",
       "      <th>Month</th>\n",
       "      <th></th>\n",
       "    </tr>\n",
       "  </thead>\n",
       "  <tbody>\n",
       "    <tr>\n",
       "      <th>2011</th>\n",
       "      <th>3</th>\n",
       "      <td>34</td>\n",
       "    </tr>\n",
       "    <tr>\n",
       "      <th>2007</th>\n",
       "      <th>2</th>\n",
       "      <td>32</td>\n",
       "    </tr>\n",
       "    <tr>\n",
       "      <th>2003</th>\n",
       "      <th>2</th>\n",
       "      <td>31</td>\n",
       "    </tr>\n",
       "    <tr>\n",
       "      <th>1999</th>\n",
       "      <th>5</th>\n",
       "      <td>29</td>\n",
       "    </tr>\n",
       "    <tr>\n",
       "      <th>2015</th>\n",
       "      <th>3</th>\n",
       "      <td>28</td>\n",
       "    </tr>\n",
       "    <tr>\n",
       "      <th>...</th>\n",
       "      <th>...</th>\n",
       "      <td>...</td>\n",
       "    </tr>\n",
       "    <tr>\n",
       "      <th rowspan=\"2\" valign=\"top\">1985</th>\n",
       "      <th>8</th>\n",
       "      <td>1</td>\n",
       "    </tr>\n",
       "    <tr>\n",
       "      <th>5</th>\n",
       "      <td>1</td>\n",
       "    </tr>\n",
       "    <tr>\n",
       "      <th rowspan=\"2\" valign=\"top\">1984</th>\n",
       "      <th>9</th>\n",
       "      <td>1</td>\n",
       "    </tr>\n",
       "    <tr>\n",
       "      <th>5</th>\n",
       "      <td>1</td>\n",
       "    </tr>\n",
       "    <tr>\n",
       "      <th>2031</th>\n",
       "      <th>5</th>\n",
       "      <td>1</td>\n",
       "    </tr>\n",
       "  </tbody>\n",
       "</table>\n",
       "<p>419 rows × 1 columns</p>\n",
       "</div>"
      ],
      "text/plain": [
       "            Scorecard\n",
       "Year Month           \n",
       "2011 3             34\n",
       "2007 2             32\n",
       "2003 2             31\n",
       "1999 5             29\n",
       "2015 3             28\n",
       "...               ...\n",
       "1985 8              1\n",
       "     5              1\n",
       "1984 9              1\n",
       "     5              1\n",
       "2031 5              1\n",
       "\n",
       "[419 rows x 1 columns]"
      ]
     },
     "execution_count": 307,
     "metadata": {},
     "output_type": "execute_result"
    }
   ],
   "source": [
    "odi_df['Month'] = pd.DatetimeIndex(odi_df['Match_date']).month.astype('Int64')\n",
    "#odi_df.info()\n",
    "#type(odi_df['Month'])\n",
    "#print(odi_df.Month)\n",
    "m_y=odi_df.groupby(['Year','Month'])[['Scorecard']].count()\n",
    "m_y.sort_values('Scorecard',ascending=False)\n"
   ]
  },
  {
   "cell_type": "code",
   "execution_count": 406,
   "metadata": {},
   "outputs": [
    {
     "data": {
      "text/html": [
       "<div>\n",
       "<style scoped>\n",
       "    .dataframe tbody tr th:only-of-type {\n",
       "        vertical-align: middle;\n",
       "    }\n",
       "\n",
       "    .dataframe tbody tr th {\n",
       "        vertical-align: top;\n",
       "    }\n",
       "\n",
       "    .dataframe thead th {\n",
       "        text-align: right;\n",
       "    }\n",
       "</style>\n",
       "<table border=\"1\" class=\"dataframe\">\n",
       "  <thead>\n",
       "    <tr style=\"text-align: right;\">\n",
       "      <th></th>\n",
       "      <th>Scorecard</th>\n",
       "      <th>Team1</th>\n",
       "      <th>Team2</th>\n",
       "      <th>WinnerBatInnings</th>\n",
       "      <th>Ground</th>\n",
       "      <th>Match_date</th>\n",
       "      <th>Winner</th>\n",
       "      <th>Host_Country</th>\n",
       "      <th>Venue_Team1</th>\n",
       "      <th>Venue_Team2</th>\n",
       "      <th>Innings_Team1</th>\n",
       "      <th>Innings_Team2</th>\n",
       "      <th>Year</th>\n",
       "      <th>Month</th>\n",
       "    </tr>\n",
       "  </thead>\n",
       "  <tbody>\n",
       "    <tr>\n",
       "      <th>0</th>\n",
       "      <td>ODI # 1</td>\n",
       "      <td>Australia</td>\n",
       "      <td>England</td>\n",
       "      <td>2</td>\n",
       "      <td>Melbourne</td>\n",
       "      <td>1971-01-05</td>\n",
       "      <td>Australia</td>\n",
       "      <td>Australia</td>\n",
       "      <td>Home</td>\n",
       "      <td>Away</td>\n",
       "      <td>2</td>\n",
       "      <td>1</td>\n",
       "      <td>1971</td>\n",
       "      <td>1</td>\n",
       "    </tr>\n",
       "    <tr>\n",
       "      <th>1</th>\n",
       "      <td>ODI # 2</td>\n",
       "      <td>England</td>\n",
       "      <td>Australia</td>\n",
       "      <td>2</td>\n",
       "      <td>Manchester</td>\n",
       "      <td>1972-08-24</td>\n",
       "      <td>England</td>\n",
       "      <td>England</td>\n",
       "      <td>Home</td>\n",
       "      <td>Away</td>\n",
       "      <td>2</td>\n",
       "      <td>1</td>\n",
       "      <td>1972</td>\n",
       "      <td>8</td>\n",
       "    </tr>\n",
       "    <tr>\n",
       "      <th>2</th>\n",
       "      <td>ODI # 3</td>\n",
       "      <td>England</td>\n",
       "      <td>Australia</td>\n",
       "      <td>2</td>\n",
       "      <td>Lord's</td>\n",
       "      <td>1972-08-26</td>\n",
       "      <td>Australia</td>\n",
       "      <td>England</td>\n",
       "      <td>Home</td>\n",
       "      <td>Away</td>\n",
       "      <td>1</td>\n",
       "      <td>2</td>\n",
       "      <td>1972</td>\n",
       "      <td>8</td>\n",
       "    </tr>\n",
       "    <tr>\n",
       "      <th>3</th>\n",
       "      <td>ODI # 4</td>\n",
       "      <td>England</td>\n",
       "      <td>Australia</td>\n",
       "      <td>2</td>\n",
       "      <td>Birmingham</td>\n",
       "      <td>1972-08-28</td>\n",
       "      <td>England</td>\n",
       "      <td>England</td>\n",
       "      <td>Home</td>\n",
       "      <td>Away</td>\n",
       "      <td>2</td>\n",
       "      <td>1</td>\n",
       "      <td>1972</td>\n",
       "      <td>8</td>\n",
       "    </tr>\n",
       "    <tr>\n",
       "      <th>4</th>\n",
       "      <td>ODI # 5</td>\n",
       "      <td>New Zealand</td>\n",
       "      <td>Pakistan</td>\n",
       "      <td>1</td>\n",
       "      <td>Christchurch</td>\n",
       "      <td>1973-02-11</td>\n",
       "      <td>New Zealand</td>\n",
       "      <td>New Zealand</td>\n",
       "      <td>Home</td>\n",
       "      <td>Away</td>\n",
       "      <td>1</td>\n",
       "      <td>2</td>\n",
       "      <td>1973</td>\n",
       "      <td>2</td>\n",
       "    </tr>\n",
       "    <tr>\n",
       "      <th>...</th>\n",
       "      <td>...</td>\n",
       "      <td>...</td>\n",
       "      <td>...</td>\n",
       "      <td>...</td>\n",
       "      <td>...</td>\n",
       "      <td>...</td>\n",
       "      <td>...</td>\n",
       "      <td>...</td>\n",
       "      <td>...</td>\n",
       "      <td>...</td>\n",
       "      <td>...</td>\n",
       "      <td>...</td>\n",
       "      <td>...</td>\n",
       "      <td>...</td>\n",
       "    </tr>\n",
       "    <tr>\n",
       "      <th>3742</th>\n",
       "      <td>ODI # 3931</td>\n",
       "      <td>India</td>\n",
       "      <td>New Zealand</td>\n",
       "      <td>2</td>\n",
       "      <td>Pune</td>\n",
       "      <td>2017-10-25</td>\n",
       "      <td>India</td>\n",
       "      <td>India</td>\n",
       "      <td>Home</td>\n",
       "      <td>Away</td>\n",
       "      <td>2</td>\n",
       "      <td>1</td>\n",
       "      <td>2017</td>\n",
       "      <td>10</td>\n",
       "    </tr>\n",
       "    <tr>\n",
       "      <th>3743</th>\n",
       "      <td>ODI # 3932</td>\n",
       "      <td>India</td>\n",
       "      <td>New Zealand</td>\n",
       "      <td>1</td>\n",
       "      <td>Kanpur</td>\n",
       "      <td>2017-10-29</td>\n",
       "      <td>India</td>\n",
       "      <td>India</td>\n",
       "      <td>Home</td>\n",
       "      <td>Away</td>\n",
       "      <td>1</td>\n",
       "      <td>2</td>\n",
       "      <td>2017</td>\n",
       "      <td>10</td>\n",
       "    </tr>\n",
       "    <tr>\n",
       "      <th>3744</th>\n",
       "      <td>ODI # 3933</td>\n",
       "      <td>Hong Kong</td>\n",
       "      <td>Namibia</td>\n",
       "      <td>2</td>\n",
       "      <td>Mumbai</td>\n",
       "      <td>2017-08-12</td>\n",
       "      <td>Namibia</td>\n",
       "      <td>India</td>\n",
       "      <td>Neutral</td>\n",
       "      <td>Neutral</td>\n",
       "      <td>1</td>\n",
       "      <td>2</td>\n",
       "      <td>2017</td>\n",
       "      <td>8</td>\n",
       "    </tr>\n",
       "    <tr>\n",
       "      <th>3745</th>\n",
       "      <td>ODI # 3934</td>\n",
       "      <td>Bermuda</td>\n",
       "      <td>U.S.A.</td>\n",
       "      <td>2</td>\n",
       "      <td>Mumbai</td>\n",
       "      <td>2017-08-12</td>\n",
       "      <td>U.S.A.</td>\n",
       "      <td>India</td>\n",
       "      <td>Neutral</td>\n",
       "      <td>Neutral</td>\n",
       "      <td>1</td>\n",
       "      <td>2</td>\n",
       "      <td>2017</td>\n",
       "      <td>8</td>\n",
       "    </tr>\n",
       "    <tr>\n",
       "      <th>3746</th>\n",
       "      <td>ODI # 3935</td>\n",
       "      <td>East Africa</td>\n",
       "      <td>Namibia</td>\n",
       "      <td>1</td>\n",
       "      <td>Mumbai</td>\n",
       "      <td>2017-08-12</td>\n",
       "      <td>East Africa</td>\n",
       "      <td>India</td>\n",
       "      <td>Neutral</td>\n",
       "      <td>Neutral</td>\n",
       "      <td>1</td>\n",
       "      <td>2</td>\n",
       "      <td>2017</td>\n",
       "      <td>8</td>\n",
       "    </tr>\n",
       "  </tbody>\n",
       "</table>\n",
       "<p>3747 rows × 14 columns</p>\n",
       "</div>"
      ],
      "text/plain": [
       "       Scorecard        Team1        Team2  WinnerBatInnings        Ground  \\\n",
       "0        ODI # 1    Australia      England                 2     Melbourne   \n",
       "1        ODI # 2      England    Australia                 2    Manchester   \n",
       "2        ODI # 3      England    Australia                 2        Lord's   \n",
       "3        ODI # 4      England    Australia                 2    Birmingham   \n",
       "4        ODI # 5  New Zealand     Pakistan                 1  Christchurch   \n",
       "...          ...          ...          ...               ...           ...   \n",
       "3742  ODI # 3931        India  New Zealand                 2          Pune   \n",
       "3743  ODI # 3932        India  New Zealand                 1        Kanpur   \n",
       "3744  ODI # 3933    Hong Kong      Namibia                 2        Mumbai   \n",
       "3745  ODI # 3934      Bermuda       U.S.A.                 2        Mumbai   \n",
       "3746  ODI # 3935  East Africa      Namibia                 1        Mumbai   \n",
       "\n",
       "     Match_date       Winner Host_Country Venue_Team1 Venue_Team2  \\\n",
       "0    1971-01-05    Australia    Australia        Home        Away   \n",
       "1    1972-08-24      England      England        Home        Away   \n",
       "2    1972-08-26    Australia      England        Home        Away   \n",
       "3    1972-08-28      England      England        Home        Away   \n",
       "4    1973-02-11  New Zealand  New Zealand        Home        Away   \n",
       "...         ...          ...          ...         ...         ...   \n",
       "3742 2017-10-25        India        India        Home        Away   \n",
       "3743 2017-10-29        India        India        Home        Away   \n",
       "3744 2017-08-12      Namibia        India     Neutral     Neutral   \n",
       "3745 2017-08-12       U.S.A.        India     Neutral     Neutral   \n",
       "3746 2017-08-12  East Africa        India     Neutral     Neutral   \n",
       "\n",
       "      Innings_Team1  Innings_Team2  Year Month  \n",
       "0                 2              1  1971     1  \n",
       "1                 2              1  1972     8  \n",
       "2                 1              2  1972     8  \n",
       "3                 2              1  1972     8  \n",
       "4                 1              2  1973     2  \n",
       "...             ...            ...   ...   ...  \n",
       "3742              2              1  2017    10  \n",
       "3743              1              2  2017    10  \n",
       "3744              1              2  2017     8  \n",
       "3745              1              2  2017     8  \n",
       "3746              1              2  2017     8  \n",
       "\n",
       "[3747 rows x 14 columns]"
      ]
     },
     "execution_count": 406,
     "metadata": {},
     "output_type": "execute_result"
    }
   ],
   "source": [
    "odi_df"
   ]
  },
  {
   "cell_type": "markdown",
   "metadata": {},
   "source": [
    "#### Q- Teams wise division of home/away matches per year"
   ]
  },
  {
   "cell_type": "code",
   "execution_count": 319,
   "metadata": {},
   "outputs": [
    {
     "data": {
      "text/html": [
       "<div>\n",
       "<style scoped>\n",
       "    .dataframe tbody tr th:only-of-type {\n",
       "        vertical-align: middle;\n",
       "    }\n",
       "\n",
       "    .dataframe tbody tr th {\n",
       "        vertical-align: top;\n",
       "    }\n",
       "\n",
       "    .dataframe thead th {\n",
       "        text-align: right;\n",
       "    }\n",
       "</style>\n",
       "<table border=\"1\" class=\"dataframe\">\n",
       "  <thead>\n",
       "    <tr style=\"text-align: right;\">\n",
       "      <th></th>\n",
       "      <th>Scorecard</th>\n",
       "      <th>Team1</th>\n",
       "      <th>Team2</th>\n",
       "      <th>WinnerBatInnings</th>\n",
       "      <th>Ground</th>\n",
       "      <th>Match_date</th>\n",
       "      <th>Winner</th>\n",
       "      <th>Host_Country</th>\n",
       "      <th>Venue_Team1</th>\n",
       "      <th>Venue_Team2</th>\n",
       "      <th>Innings_Team1</th>\n",
       "      <th>Innings_Team2</th>\n",
       "      <th>Year</th>\n",
       "      <th>Month</th>\n",
       "    </tr>\n",
       "  </thead>\n",
       "  <tbody>\n",
       "    <tr>\n",
       "      <th>0</th>\n",
       "      <td>ODI # 1</td>\n",
       "      <td>Australia</td>\n",
       "      <td>England</td>\n",
       "      <td>2</td>\n",
       "      <td>Melbourne</td>\n",
       "      <td>1971-01-05</td>\n",
       "      <td>Australia</td>\n",
       "      <td>Australia</td>\n",
       "      <td>Home</td>\n",
       "      <td>Away</td>\n",
       "      <td>2</td>\n",
       "      <td>1</td>\n",
       "      <td>1971</td>\n",
       "      <td>1</td>\n",
       "    </tr>\n",
       "    <tr>\n",
       "      <th>1</th>\n",
       "      <td>ODI # 2</td>\n",
       "      <td>England</td>\n",
       "      <td>Australia</td>\n",
       "      <td>2</td>\n",
       "      <td>Manchester</td>\n",
       "      <td>1972-08-24</td>\n",
       "      <td>England</td>\n",
       "      <td>England</td>\n",
       "      <td>Home</td>\n",
       "      <td>Away</td>\n",
       "      <td>2</td>\n",
       "      <td>1</td>\n",
       "      <td>1972</td>\n",
       "      <td>8</td>\n",
       "    </tr>\n",
       "    <tr>\n",
       "      <th>2</th>\n",
       "      <td>ODI # 3</td>\n",
       "      <td>England</td>\n",
       "      <td>Australia</td>\n",
       "      <td>2</td>\n",
       "      <td>Lord's</td>\n",
       "      <td>1972-08-26</td>\n",
       "      <td>Australia</td>\n",
       "      <td>England</td>\n",
       "      <td>Home</td>\n",
       "      <td>Away</td>\n",
       "      <td>1</td>\n",
       "      <td>2</td>\n",
       "      <td>1972</td>\n",
       "      <td>8</td>\n",
       "    </tr>\n",
       "    <tr>\n",
       "      <th>3</th>\n",
       "      <td>ODI # 4</td>\n",
       "      <td>England</td>\n",
       "      <td>Australia</td>\n",
       "      <td>2</td>\n",
       "      <td>Birmingham</td>\n",
       "      <td>1972-08-28</td>\n",
       "      <td>England</td>\n",
       "      <td>England</td>\n",
       "      <td>Home</td>\n",
       "      <td>Away</td>\n",
       "      <td>2</td>\n",
       "      <td>1</td>\n",
       "      <td>1972</td>\n",
       "      <td>8</td>\n",
       "    </tr>\n",
       "    <tr>\n",
       "      <th>4</th>\n",
       "      <td>ODI # 5</td>\n",
       "      <td>New Zealand</td>\n",
       "      <td>Pakistan</td>\n",
       "      <td>1</td>\n",
       "      <td>Christchurch</td>\n",
       "      <td>1973-02-11</td>\n",
       "      <td>New Zealand</td>\n",
       "      <td>New Zealand</td>\n",
       "      <td>Home</td>\n",
       "      <td>Away</td>\n",
       "      <td>1</td>\n",
       "      <td>2</td>\n",
       "      <td>1973</td>\n",
       "      <td>2</td>\n",
       "    </tr>\n",
       "    <tr>\n",
       "      <th>...</th>\n",
       "      <td>...</td>\n",
       "      <td>...</td>\n",
       "      <td>...</td>\n",
       "      <td>...</td>\n",
       "      <td>...</td>\n",
       "      <td>...</td>\n",
       "      <td>...</td>\n",
       "      <td>...</td>\n",
       "      <td>...</td>\n",
       "      <td>...</td>\n",
       "      <td>...</td>\n",
       "      <td>...</td>\n",
       "      <td>...</td>\n",
       "      <td>...</td>\n",
       "    </tr>\n",
       "    <tr>\n",
       "      <th>3742</th>\n",
       "      <td>ODI # 3931</td>\n",
       "      <td>India</td>\n",
       "      <td>New Zealand</td>\n",
       "      <td>2</td>\n",
       "      <td>Pune</td>\n",
       "      <td>2017-10-25</td>\n",
       "      <td>India</td>\n",
       "      <td>India</td>\n",
       "      <td>Home</td>\n",
       "      <td>Away</td>\n",
       "      <td>2</td>\n",
       "      <td>1</td>\n",
       "      <td>2017</td>\n",
       "      <td>10</td>\n",
       "    </tr>\n",
       "    <tr>\n",
       "      <th>3743</th>\n",
       "      <td>ODI # 3932</td>\n",
       "      <td>India</td>\n",
       "      <td>New Zealand</td>\n",
       "      <td>1</td>\n",
       "      <td>Kanpur</td>\n",
       "      <td>2017-10-29</td>\n",
       "      <td>India</td>\n",
       "      <td>India</td>\n",
       "      <td>Home</td>\n",
       "      <td>Away</td>\n",
       "      <td>1</td>\n",
       "      <td>2</td>\n",
       "      <td>2017</td>\n",
       "      <td>10</td>\n",
       "    </tr>\n",
       "    <tr>\n",
       "      <th>3744</th>\n",
       "      <td>ODI # 3933</td>\n",
       "      <td>Hong Kong</td>\n",
       "      <td>Namibia</td>\n",
       "      <td>2</td>\n",
       "      <td>Mumbai</td>\n",
       "      <td>2017-08-12</td>\n",
       "      <td>Namibia</td>\n",
       "      <td>India</td>\n",
       "      <td>Neutral</td>\n",
       "      <td>Neutral</td>\n",
       "      <td>1</td>\n",
       "      <td>2</td>\n",
       "      <td>2017</td>\n",
       "      <td>8</td>\n",
       "    </tr>\n",
       "    <tr>\n",
       "      <th>3745</th>\n",
       "      <td>ODI # 3934</td>\n",
       "      <td>Bermuda</td>\n",
       "      <td>U.S.A.</td>\n",
       "      <td>2</td>\n",
       "      <td>Mumbai</td>\n",
       "      <td>2017-08-12</td>\n",
       "      <td>U.S.A.</td>\n",
       "      <td>India</td>\n",
       "      <td>Neutral</td>\n",
       "      <td>Neutral</td>\n",
       "      <td>1</td>\n",
       "      <td>2</td>\n",
       "      <td>2017</td>\n",
       "      <td>8</td>\n",
       "    </tr>\n",
       "    <tr>\n",
       "      <th>3746</th>\n",
       "      <td>ODI # 3935</td>\n",
       "      <td>East Africa</td>\n",
       "      <td>Namibia</td>\n",
       "      <td>1</td>\n",
       "      <td>Mumbai</td>\n",
       "      <td>2017-08-12</td>\n",
       "      <td>East Africa</td>\n",
       "      <td>India</td>\n",
       "      <td>Neutral</td>\n",
       "      <td>Neutral</td>\n",
       "      <td>1</td>\n",
       "      <td>2</td>\n",
       "      <td>2017</td>\n",
       "      <td>8</td>\n",
       "    </tr>\n",
       "  </tbody>\n",
       "</table>\n",
       "<p>3747 rows × 14 columns</p>\n",
       "</div>"
      ],
      "text/plain": [
       "       Scorecard        Team1        Team2  WinnerBatInnings        Ground  \\\n",
       "0        ODI # 1    Australia      England                 2     Melbourne   \n",
       "1        ODI # 2      England    Australia                 2    Manchester   \n",
       "2        ODI # 3      England    Australia                 2        Lord's   \n",
       "3        ODI # 4      England    Australia                 2    Birmingham   \n",
       "4        ODI # 5  New Zealand     Pakistan                 1  Christchurch   \n",
       "...          ...          ...          ...               ...           ...   \n",
       "3742  ODI # 3931        India  New Zealand                 2          Pune   \n",
       "3743  ODI # 3932        India  New Zealand                 1        Kanpur   \n",
       "3744  ODI # 3933    Hong Kong      Namibia                 2        Mumbai   \n",
       "3745  ODI # 3934      Bermuda       U.S.A.                 2        Mumbai   \n",
       "3746  ODI # 3935  East Africa      Namibia                 1        Mumbai   \n",
       "\n",
       "     Match_date       Winner Host_Country Venue_Team1 Venue_Team2  \\\n",
       "0    1971-01-05    Australia    Australia        Home        Away   \n",
       "1    1972-08-24      England      England        Home        Away   \n",
       "2    1972-08-26    Australia      England        Home        Away   \n",
       "3    1972-08-28      England      England        Home        Away   \n",
       "4    1973-02-11  New Zealand  New Zealand        Home        Away   \n",
       "...         ...          ...          ...         ...         ...   \n",
       "3742 2017-10-25        India        India        Home        Away   \n",
       "3743 2017-10-29        India        India        Home        Away   \n",
       "3744 2017-08-12      Namibia        India     Neutral     Neutral   \n",
       "3745 2017-08-12       U.S.A.        India     Neutral     Neutral   \n",
       "3746 2017-08-12  East Africa        India     Neutral     Neutral   \n",
       "\n",
       "      Innings_Team1  Innings_Team2  Year Month  \n",
       "0                 2              1  1971     1  \n",
       "1                 2              1  1972     8  \n",
       "2                 1              2  1972     8  \n",
       "3                 2              1  1972     8  \n",
       "4                 1              2  1973     2  \n",
       "...             ...            ...   ...   ...  \n",
       "3742              2              1  2017    10  \n",
       "3743              1              2  2017    10  \n",
       "3744              1              2  2017     8  \n",
       "3745              1              2  2017     8  \n",
       "3746              1              2  2017     8  \n",
       "\n",
       "[3747 rows x 14 columns]"
      ]
     },
     "execution_count": 319,
     "metadata": {},
     "output_type": "execute_result"
    }
   ],
   "source": [
    "odi_df"
   ]
  },
  {
   "cell_type": "code",
   "execution_count": 659,
   "metadata": {
    "code_folding": []
   },
   "outputs": [
    {
     "data": {
      "image/png": "[encoded data removed]",
      "text/plain": [
       "<Figure size 1368x360 with 1 Axes>"
      ]
     },
     "metadata": {
      "needs_background": "light"
     },
     "output_type": "display_data"
    },
    {
     "data": {
      "text/plain": [
       "<Figure size 1296x432 with 0 Axes>"
      ]
     },
     "metadata": {},
     "output_type": "display_data"
    }
   ],
   "source": [
    "a=list(odi_df.Team1).copy()\n",
    "b=list(odi_df.Team2).copy()\n",
    "\n",
    "Teams=np.append(a,b)\n",
    "\n",
    "x=list(odi_df.Venue_Team1).copy()\n",
    "y=list(odi_df.Venue_Team2).copy()\n",
    "\n",
    "Venues=np.append(x,y)\n",
    "order=['Australia',\n",
    " 'England',\n",
    " 'New Zealand',\n",
    " 'East Africa',\n",
    " 'Sri Lanka',\n",
    " 'Pakistan',\n",
    " 'India',\n",
    " 'West Indies']\n",
    "g=sns.countplot(x=Teams,hue=Venues,order=order,orient = \"v\");\n",
    "plt.title(\"Home vs Away vs Neutral matches for each country\",fontsize=20)\n",
    "plt.xlabel(\"Country\",fontsize=30)\n",
    "plt.ylabel(\"Total Count\",fontsize=30)\n",
    "plt.figure(figsize=(18,6))\n",
    "for p in g.patches:\n",
    "    g.annotate(f'\\n{p.get_height()}', (p.get_x()+0.2, p.get_height()), color='black', size=10, ha=\"center\");\n",
    "plt.show();"
   ]
  },
  {
   "cell_type": "markdown",
   "metadata": {},
   "source": [
    "Let us save and upload our work to Jovian before continuing"
   ]
  },
  {
   "cell_type": "markdown",
   "metadata": {},
   "source": [
    "## Asking and Answering Questions\n",
    "\n",
    "Let us explore some more interesting facts about this data set\n"
   ]
  },
  {
   "cell_type": "markdown",
   "metadata": {},
   "source": [
    "Let's start off by finding the winners vs losers..."
   ]
  },
  {
   "cell_type": "markdown",
   "metadata": {},
   "source": [
    "#### Q1: Team winning the most matches vs team losing the most??"
   ]
  },
  {
   "cell_type": "code",
   "execution_count": 449,
   "metadata": {},
   "outputs": [
    {
     "data": {
      "text/plain": [
       "0    Australia\n",
       "dtype: object"
      ]
     },
     "execution_count": 449,
     "metadata": {},
     "output_type": "execute_result"
    }
   ],
   "source": [
    "# Rank 1\n",
    "odi_df.Winner.mode()"
   ]
  },
  {
   "cell_type": "code",
   "execution_count": 450,
   "metadata": {},
   "outputs": [
    {
     "data": {
      "text/plain": [
       "Australia       552\n",
       "India           475\n",
       "Pakistan        466\n",
       "West Indies     380\n",
       "Sri Lanka       371\n",
       "South Africa    361\n",
       "England         343\n",
       "New Zealand     324\n",
       "Zimbabwe        129\n",
       "Bangladesh      105\n",
       "Name: Winner, dtype: int64"
      ]
     },
     "execution_count": 450,
     "metadata": {},
     "output_type": "execute_result"
    }
   ],
   "source": [
    "# List of top 10 winners\n",
    "top_10=odi_df.Winner.value_counts()\n",
    "top10=top_10.head(10)\n",
    "top10"
   ]
  },
  {
   "cell_type": "code",
   "execution_count": 451,
   "metadata": {},
   "outputs": [
    {
     "data": {
      "image/png": "[encoded data removed]",
      "text/plain": [
       "<Figure size 864x432 with 1 Axes>"
      ]
     },
     "metadata": {
      "needs_background": "light"
     },
     "output_type": "display_data"
    }
   ],
   "source": [
    "plt.figure(figsize=(12,6))\n",
    "plt.xticks(rotation=75)\n",
    "plt.title('top 10 winners')\n",
    "sns.barplot(x=top10.index,y=top10);"
   ]
  },
  {
   "cell_type": "code",
   "execution_count": 452,
   "metadata": {},
   "outputs": [
    {
     "data": {
      "text/plain": [
       "Namibia         1\n",
       "U.S.A.          1\n",
       "East Africa     1\n",
       "P.N.G.          5\n",
       "Hong Kong       6\n",
       "Bermuda         7\n",
       "U.A.E.          9\n",
       "Canada         17\n",
       "Netherlands    28\n",
       "Scotland       31\n",
       "Name: Winner, dtype: int64"
      ]
     },
     "execution_count": 452,
     "metadata": {},
     "output_type": "execute_result"
    }
   ],
   "source": [
    "# Top 10 losers  \n",
    "lw_10=odi_df.Winner.value_counts()\n",
    "Best_losers=lw_10.tail(10).sort_values()\n",
    "Best_losers"
   ]
  },
  {
   "cell_type": "code",
   "execution_count": 453,
   "metadata": {},
   "outputs": [
    {
     "data": {
      "image/png": "[encoded data removed]",
      "text/plain": [
       "<Figure size 864x432 with 1 Axes>"
      ]
     },
     "metadata": {
      "needs_background": "light"
     },
     "output_type": "display_data"
    }
   ],
   "source": [
    "plt.figure(figsize=(12,6))\n",
    "plt.xticks(rotation=75)\n",
    "plt.title('top 10 losers')\n",
    "sns.barplot(x=Best_losers.index,y=Best_losers);"
   ]
  },
  {
   "cell_type": "code",
   "execution_count": 456,
   "metadata": {},
   "outputs": [
    {
     "name": "stdout",
     "output_type": "stream",
     "text": [
      "Afghanistan     48.148148\n",
      "Australia       35.739232\n",
      "Bangladesh      67.987805\n",
      "Bermuda         80.555556\n",
      "Canada          77.333333\n",
      "East Africa     75.000000\n",
      "England         48.343373\n",
      "Hong Kong       66.666667\n",
      "India           46.022727\n",
      "Ireland         54.867257\n",
      "Kenya           71.812081\n",
      "Namibia         87.500000\n",
      "Netherlands     61.111111\n",
      "New Zealand     52.769679\n",
      "P.N.G.          50.000000\n",
      "Pakistan        45.433255\n",
      "Scotland        64.367816\n",
      "South Africa    35.650624\n",
      "Sri Lanka       51.566580\n",
      "U.A.E.          74.285714\n",
      "U.S.A.          66.666667\n",
      "West Indies     48.016416\n",
      "Zimbabwe        72.784810\n",
      "dtype: float64\n"
     ]
    },
    {
     "data": {
      "image/png": "[encoded data removed]",
      "text/plain": [
       "<Figure size 2160x432 with 1 Axes>"
      ]
     },
     "metadata": {
      "needs_background": "light"
     },
     "output_type": "display_data"
    }
   ],
   "source": [
    "#Losers %\n",
    "loss_pc=(1-lw_10/head_count)*100\n",
    "print(loss_pc)\n",
    "plt.figure(figsize=(30,6))\n",
    "plt.title('Lose %')\n",
    "sns.barplot(x=loss_pc.index,y=loss_pc,color=\"salmon\",palette=\"Blues_d\",);"
   ]
  },
  {
   "cell_type": "code",
   "execution_count": 457,
   "metadata": {},
   "outputs": [
    {
     "name": "stdout",
     "output_type": "stream",
     "text": [
      "Afghanistan     51.851852\n",
      "Australia       64.260768\n",
      "Bangladesh      32.012195\n",
      "Bermuda         19.444444\n",
      "Canada          22.666667\n",
      "East Africa     25.000000\n",
      "England         51.656627\n",
      "Hong Kong       33.333333\n",
      "India           53.977273\n",
      "Ireland         45.132743\n",
      "Kenya           28.187919\n",
      "Namibia         12.500000\n",
      "Netherlands     38.888889\n",
      "New Zealand     47.230321\n",
      "P.N.G.          50.000000\n",
      "Pakistan        54.566745\n",
      "Scotland        35.632184\n",
      "South Africa    64.349376\n",
      "Sri Lanka       48.433420\n",
      "U.A.E.          25.714286\n",
      "U.S.A.          33.333333\n",
      "West Indies     51.983584\n",
      "Zimbabwe        27.215190\n",
      "dtype: float64\n"
     ]
    },
    {
     "data": {
      "image/png": "[encoded data removed]",
      "text/plain": [
       "<Figure size 2160x432 with 1 Axes>"
      ]
     },
     "metadata": {
      "needs_background": "light"
     },
     "output_type": "display_data"
    }
   ],
   "source": [
    "# Best win %\n",
    "Win_pc=top_10/head_count*100\n",
    "print(Win_pc)\n",
    "plt.figure(figsize=(30,6))\n",
    "plt.title('Win %')\n",
    "sns.barplot(x=Win_pc.index,y=Win_pc,color=\"salmon\",palette=\"Blues_d\",);"
   ]
  },
  {
   "cell_type": "markdown",
   "metadata": {},
   "source": [
    "#### Q2- Win % of team batting 1st or 2nd across all matches?\n"
   ]
  },
  {
   "cell_type": "code",
   "execution_count": 500,
   "metadata": {},
   "outputs": [
    {
     "data": {
      "text/plain": [
       "Text(0, 0.5, 'Team batting 1st or 2nd')"
      ]
     },
     "execution_count": 500,
     "metadata": {},
     "output_type": "execute_result"
    },
    {
     "data": {
      "image/png": "[encoded data removed]",
      "text/plain": [
       "<Figure size 648x360 with 1 Axes>"
      ]
     },
     "metadata": {
      "needs_background": "light"
     },
     "output_type": "display_data"
    }
   ],
   "source": [
    "plt.title(\"Win % of team batting 1st or 2nd across all matches\")\n",
    "plt.hist(odi_df.WinnerBatInnings,bins=np.arange(1, 4, 1),histtype='barstacked',align='mid',orientation='horizontal',color='black',alpha=0.8)\n",
    "plt.xlabel('Matches won')\n",
    "plt.ylabel('Team batting 1st or 2nd')"
   ]
  },
  {
   "cell_type": "code",
   "execution_count": 510,
   "metadata": {},
   "outputs": [
    {
     "data": {
      "image/png": "[encoded data removed]",
      "text/plain": [
       "<Figure size 648x360 with 1 Axes>"
      ]
     },
     "metadata": {},
     "output_type": "display_data"
    }
   ],
   "source": [
    "#pie_chart\n",
    "plt.title('Win % of team batting 1st or 2nd')\n",
    "win=odi_df.WinnerBatInnings.value_counts()\n",
    "plt.pie(win,labels=win.index,autopct='%1.1f%%',explode=(.02,.02));"
   ]
  },
  {
   "cell_type": "markdown",
   "metadata": {},
   "source": [
    "Batting first or second doesn't make much of a difference "
   ]
  },
  {
   "cell_type": "markdown",
   "metadata": {},
   "source": [
    "####  Which team won most matches batting first?"
   ]
  },
  {
   "cell_type": "code",
   "execution_count": 560,
   "metadata": {},
   "outputs": [],
   "source": [
    "import statistics \n",
    "from statistics import mode\n"
   ]
  },
  {
   "cell_type": "code",
   "execution_count": 564,
   "metadata": {},
   "outputs": [
    {
     "name": "stdout",
     "output_type": "stream",
     "text": [
      "Australia\n"
     ]
    }
   ],
   "source": [
    "#(odi_df[odi_df.WinnerBatInnings==1].groupby('Team1')[['Scorecard']].count()).sort_values('Scorecard',ascending=False).head(10)\n",
    "Team=np.array([])\n",
    "x=odi_df[odi_df.WinnerBatInnings==1]\n",
    "for y in x.Innings_Team1:\n",
    "    if y==1:\n",
    "        Teams=np.append(Team,x.Team1)\n",
    "    else:\n",
    "        Teams=np.append(Team,x.Team2)\n",
    "print(mode(Teams))"
   ]
  },
  {
   "cell_type": "markdown",
   "metadata": {},
   "source": [
    "#### Which team won most matches batting second?"
   ]
  },
  {
   "cell_type": "code",
   "execution_count": 565,
   "metadata": {},
   "outputs": [
    {
     "name": "stdout",
     "output_type": "stream",
     "text": [
      "Pakistan\n"
     ]
    }
   ],
   "source": [
    "Team=np.array([])\n",
    "x=odi_df[odi_df.WinnerBatInnings==2]\n",
    "for y in x.Innings_Team1:\n",
    "    if y==2:\n",
    "        Teams=np.append(Team,x.Team1)\n",
    "    else:\n",
    "        Teams=np.append(Team,x.Team2)\n",
    "print(mode(Teams))"
   ]
  },
  {
   "cell_type": "markdown",
   "metadata": {},
   "source": [
    "#### Q3: Home vs away matches"
   ]
  },
  {
   "cell_type": "code",
   "execution_count": 589,
   "metadata": {},
   "outputs": [
    {
     "data": {
      "text/plain": [
       "1514"
      ]
     },
     "execution_count": 589,
     "metadata": {},
     "output_type": "execute_result"
    }
   ],
   "source": [
    "#Home_team_wins\n",
    "x=odi_df[odi_df.Venue_Team1=='Home'] \n",
    "a1=(x.Winner==x.Team1).sum() \n",
    "y=odi_df[odi_df.Venue_Team2=='Home'] \n",
    "a2=(y.Winner==y.Team2).sum() \n",
    "a1+a2"
   ]
  },
  {
   "cell_type": "code",
   "execution_count": 590,
   "metadata": {},
   "outputs": [
    {
     "data": {
      "text/plain": [
       "1095"
      ]
     },
     "execution_count": 590,
     "metadata": {},
     "output_type": "execute_result"
    }
   ],
   "source": [
    "#Away wins\n",
    "xc=odi_df[odi_df.Venue_Team1=='Away'] \n",
    "a1a=(xc.Winner==xc.Team1).sum() \n",
    "yc=odi_df[odi_df.Venue_Team2=='Away'] \n",
    "a2a=(yc.Winner==yc.Team2).sum() \n",
    "a1a+a2a"
   ]
  },
  {
   "cell_type": "code",
   "execution_count": 600,
   "metadata": {},
   "outputs": [
    {
     "data": {
      "image/png": "[encoded data removed]",
      "text/plain": [
       "<Figure size 648x360 with 1 Axes>"
      ]
     },
     "metadata": {},
     "output_type": "display_data"
    }
   ],
   "source": [
    "list1=[1514,1095]\n",
    "labels=['Home','Away']\n",
    "plt.title(\"Comparison of win at home vs away\")\n",
    "plt.pie(list1,labels=labels,autopct='%1.1f%%',explode=(.02,.02));"
   ]
  },
  {
   "cell_type": "markdown",
   "metadata": {},
   "source": [
    "Teams are more comfortable playing at home and have better winning ratio at home "
   ]
  },
  {
   "cell_type": "markdown",
   "metadata": {},
   "source": [
    "#### Q4- Which host country has won most matches?"
   ]
  },
  {
   "cell_type": "code",
   "execution_count": 620,
   "metadata": {},
   "outputs": [
    {
     "data": {
      "text/plain": [
       "Index(['Australia', 'India', 'South Africa', 'New Zealand', 'England',\n",
       "       'Sri Lanka', 'West Indies', 'Pakistan', 'Bangladesh', 'Zimbabwe',\n",
       "       'Kenya', 'Ireland', 'Scotland', 'Netherlands', 'U.A.E.', 'Canada',\n",
       "       'Hong Kong'],\n",
       "      dtype='object', name='Winner')"
      ]
     },
     "execution_count": 620,
     "metadata": {},
     "output_type": "execute_result"
    }
   ],
   "source": [
    "xa=(odi_df[odi_df.Winner==odi_df.Host_Country]).groupby('Winner')['Host_Country'].count().sort_values(ascending=False)\n",
    "xa.index"
   ]
  },
  {
   "cell_type": "code",
   "execution_count": 635,
   "metadata": {},
   "outputs": [
    {
     "data": {
      "image/png": "[encoded data removed]",
      "text/plain": [
       "<Figure size 1368x360 with 1 Axes>"
      ]
     },
     "metadata": {
      "needs_background": "light"
     },
     "output_type": "display_data"
    }
   ],
   "source": [
    "sns.set_style('whitegrid')\n",
    "matplotlib.rcParams['font.size'] = 8\n",
    "matplotlib.rcParams['figure.figsize'] = (19, 5)\n",
    "matplotlib.rcParams['figure.facecolor'] = '#90060000'\n",
    "plt.title('Hosts with max wins')\n",
    "plt.xlabel(\"Country\")\n",
    "plt.ylabel(\"Count\")\n",
    "sns.barplot(x=xa.index, y=xa);"
   ]
  },
  {
   "cell_type": "markdown",
   "metadata": {},
   "source": [
    "Australia has won most number of matches while hosting it."
   ]
  },
  {
   "cell_type": "markdown",
   "metadata": {},
   "source": [
    "#### Q5-Which grounds are most favourable for chasing score?"
   ]
  },
  {
   "cell_type": "code",
   "execution_count": 649,
   "metadata": {},
   "outputs": [
    {
     "data": {
      "text/html": [
       "<div>\n",
       "<style scoped>\n",
       "    .dataframe tbody tr th:only-of-type {\n",
       "        vertical-align: middle;\n",
       "    }\n",
       "\n",
       "    .dataframe tbody tr th {\n",
       "        vertical-align: top;\n",
       "    }\n",
       "\n",
       "    .dataframe thead th {\n",
       "        text-align: right;\n",
       "    }\n",
       "</style>\n",
       "<table border=\"1\" class=\"dataframe\">\n",
       "  <thead>\n",
       "    <tr style=\"text-align: right;\">\n",
       "      <th></th>\n",
       "      <th>Scorecard</th>\n",
       "    </tr>\n",
       "    <tr>\n",
       "      <th>Ground</th>\n",
       "      <th></th>\n",
       "    </tr>\n",
       "  </thead>\n",
       "  <tbody>\n",
       "    <tr>\n",
       "      <th>Sharjah</th>\n",
       "      <td>104</td>\n",
       "    </tr>\n",
       "    <tr>\n",
       "      <th>Colombo</th>\n",
       "      <td>85</td>\n",
       "    </tr>\n",
       "    <tr>\n",
       "      <th>Dhaka</th>\n",
       "      <td>79</td>\n",
       "    </tr>\n",
       "    <tr>\n",
       "      <th>Melbourne</th>\n",
       "      <td>74</td>\n",
       "    </tr>\n",
       "    <tr>\n",
       "      <th>Harare</th>\n",
       "      <td>68</td>\n",
       "    </tr>\n",
       "    <tr>\n",
       "      <th>...</th>\n",
       "      <td>...</td>\n",
       "    </tr>\n",
       "    <tr>\n",
       "      <th>New Plymouth</th>\n",
       "      <td>1</td>\n",
       "    </tr>\n",
       "    <tr>\n",
       "      <th>Quetta</th>\n",
       "      <td>1</td>\n",
       "    </tr>\n",
       "    <tr>\n",
       "      <th>Darwin</th>\n",
       "      <td>1</td>\n",
       "    </tr>\n",
       "    <tr>\n",
       "      <th>Port Moresby</th>\n",
       "      <td>1</td>\n",
       "    </tr>\n",
       "    <tr>\n",
       "      <th>Derby</th>\n",
       "      <td>1</td>\n",
       "    </tr>\n",
       "  </tbody>\n",
       "</table>\n",
       "<p>150 rows × 1 columns</p>\n",
       "</div>"
      ],
      "text/plain": [
       "              Scorecard\n",
       "Ground                 \n",
       "Sharjah             104\n",
       "Colombo              85\n",
       "Dhaka                79\n",
       "Melbourne            74\n",
       "Harare               68\n",
       "...                 ...\n",
       "New Plymouth          1\n",
       "Quetta                1\n",
       "Darwin                1\n",
       "Port Moresby          1\n",
       "Derby                 1\n",
       "\n",
       "[150 rows x 1 columns]"
      ]
     },
     "execution_count": 649,
     "metadata": {},
     "output_type": "execute_result"
    }
   ],
   "source": [
    "((odi_df[odi_df.WinnerBatInnings==2]).groupby('Ground')[['Scorecard']].count()).sort_values('Scorecard',ascending=False)"
   ]
  },
  {
   "cell_type": "markdown",
   "metadata": {},
   "source": [
    "#### Which grounds are most favourable for batting first?"
   ]
  },
  {
   "cell_type": "code",
   "execution_count": 653,
   "metadata": {},
   "outputs": [
    {
     "data": {
      "text/html": [
       "<div>\n",
       "<style scoped>\n",
       "    .dataframe tbody tr th:only-of-type {\n",
       "        vertical-align: middle;\n",
       "    }\n",
       "\n",
       "    .dataframe tbody tr th {\n",
       "        vertical-align: top;\n",
       "    }\n",
       "\n",
       "    .dataframe thead th {\n",
       "        text-align: right;\n",
       "    }\n",
       "</style>\n",
       "<table border=\"1\" class=\"dataframe\">\n",
       "  <thead>\n",
       "    <tr style=\"text-align: right;\">\n",
       "      <th></th>\n",
       "      <th>Scorecard</th>\n",
       "    </tr>\n",
       "    <tr>\n",
       "      <th>Ground</th>\n",
       "      <th></th>\n",
       "    </tr>\n",
       "  </thead>\n",
       "  <tbody>\n",
       "    <tr>\n",
       "      <th>Sharjah</th>\n",
       "      <td>122</td>\n",
       "    </tr>\n",
       "    <tr>\n",
       "      <th>Colombo</th>\n",
       "      <td>94</td>\n",
       "    </tr>\n",
       "    <tr>\n",
       "      <th>Sydney</th>\n",
       "      <td>86</td>\n",
       "    </tr>\n",
       "    <tr>\n",
       "      <th>Melbourne</th>\n",
       "      <td>76</td>\n",
       "    </tr>\n",
       "    <tr>\n",
       "      <th>Dhaka</th>\n",
       "      <td>75</td>\n",
       "    </tr>\n",
       "    <tr>\n",
       "      <th>...</th>\n",
       "      <td>...</td>\n",
       "    </tr>\n",
       "    <tr>\n",
       "      <th>Kwekwe</th>\n",
       "      <td>1</td>\n",
       "    </tr>\n",
       "    <tr>\n",
       "      <th>Queenstown</th>\n",
       "      <td>1</td>\n",
       "    </tr>\n",
       "    <tr>\n",
       "      <th>Pietermaritzburg</th>\n",
       "      <td>1</td>\n",
       "    </tr>\n",
       "    <tr>\n",
       "      <th>Khulna</th>\n",
       "      <td>1</td>\n",
       "    </tr>\n",
       "    <tr>\n",
       "      <th>Whangarei</th>\n",
       "      <td>1</td>\n",
       "    </tr>\n",
       "  </tbody>\n",
       "</table>\n",
       "<p>147 rows × 1 columns</p>\n",
       "</div>"
      ],
      "text/plain": [
       "                  Scorecard\n",
       "Ground                     \n",
       "Sharjah                 122\n",
       "Colombo                  94\n",
       "Sydney                   86\n",
       "Melbourne                76\n",
       "Dhaka                    75\n",
       "...                     ...\n",
       "Kwekwe                    1\n",
       "Queenstown                1\n",
       "Pietermaritzburg          1\n",
       "Khulna                    1\n",
       "Whangarei                 1\n",
       "\n",
       "[147 rows x 1 columns]"
      ]
     },
     "execution_count": 653,
     "metadata": {},
     "output_type": "execute_result"
    }
   ],
   "source": [
    "((odi_df[odi_df.WinnerBatInnings==1]).groupby('Ground')[['Scorecard']].count()).sort_values('Scorecard',ascending=False)"
   ]
  },
  {
   "cell_type": "markdown",
   "metadata": {},
   "source": [
    "Interestingly Sharjah followed by Colombo are suitable for both batting 1st and 2nd."
   ]
  },
  {
   "cell_type": "markdown",
   "metadata": {},
   "source": [
    "## Inferences and Conclusion\n",
    "\n",
    "1. First recorded ODI match was played on Jan 5,1971\n",
    "2. Sharjah and colombo have hosted the most number of matches\n",
    "3. India followed by Australia have played the most ODI matches\n",
    "4. Pakistan has played most neutral venue games which is obvious as Teams rarely tour Pakistan due to securiy threats\n",
    "5. Suprisingly only one-third games are played at Neutral venues\n",
    "6. Year 2007 saw highest matches(179)\n",
    "7. Australia, India have won most matches while associate nations like Scotland & Netherlands are top losers\n",
    "8. Batting 1st or 2nd doesn't matter much as far as overall win:loss  is concerned.\n",
    "9. Most teams dominate at home.\n"
   ]
  },
  {
   "cell_type": "markdown",
   "metadata": {},
   "source": [
    "## References\n",
    "\n",
    "1. Data set can be found at \"https://www.kaggle.com/datasets/jaykay12/odi-cricket-matches-19712017\""
   ]
  },
  {
   "cell_type": "code",
   "execution_count": 4,
   "metadata": {},
   "outputs": [],
   "source": [
    "import jovian"
   ]
  },
  {
   "cell_type": "code",
   "execution_count": 6,
   "metadata": {
    "scrolled": false
   },
   "outputs": [
    {
     "data": {
      "application/javascript": [
       "window.require && require([\"base/js/namespace\"],function(Jupyter){Jupyter.notebook.save_checkpoint()})"
      ],
      "text/plain": [
       "<IPython.core.display.Javascript object>"
      ]
     },
     "metadata": {},
     "output_type": "display_data"
    },
    {
     "name": "stdout",
     "output_type": "stream",
     "text": [
      "[jovian] Updating notebook \"nihalgupta012/zerotopandas-course-project-starter-nihal\" on https://jovian.ai\u001b[0m\n",
      "[jovian] Committed successfully! https://jovian.ai/nihalgupta012/zerotopandas-course-project-starter-nihal\u001b[0m\n"
     ]
    },
    {
     "data": {
      "text/plain": [
       "'https://jovian.ai/nihalgupta012/zerotopandas-course-project-starter-nihal'"
      ]
     },
     "execution_count": 6,
     "metadata": {},
     "output_type": "execute_result"
    }
   ],
   "source": [
    "jovian.commit()"
   ]
  },
  {
   "cell_type": "code",
   "execution_count": null,
   "metadata": {},
   "outputs": [],
   "source": []
  }
 ],
 "metadata": {
  "kernelspec": {
   "display_name": "Python 3 (ipykernel)",
   "language": "python",
   "name": "python3"
  },
  "language_info": {
   "codemirror_mode": {
    "name": "ipython",
    "version": 3
   },
   "file_extension": ".py",
   "mimetype": "text/x-python",
   "name": "python",
   "nbconvert_exporter": "python",
   "pygments_lexer": "ipython3",
   "version": "3.9.6"
  }
 },
 "nbformat": 4,
 "nbformat_minor": 4
}
